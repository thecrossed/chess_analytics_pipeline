{
 "cells": [
  {
   "cell_type": "code",
   "execution_count": 1,
   "id": "752d4d74",
   "metadata": {},
   "outputs": [],
   "source": [
    "import logging\n",
    "import logging.handlers\n",
    "import os\n",
    "import io\n",
    "import pandas as pd\n",
    "import numpy as np\n",
    "import requests\n",
    "import json\n",
    "# from chessdotcom import get_player_profile, get_player_stats, get_player_game_archives  (not working)\n",
    "import chess.pgn\n",
    "from converter.pgn_data import PGNData\n",
    "import time\n",
    "from datetime import date\n",
    "from datetime import datetime\n",
    "from dateutil.relativedelta import relativedelta\n",
    "import gspread\n",
    "from oauth2client.service_account import ServiceAccountCredentials\n",
    "from df2gspread import df2gspread as d2g\n",
    "import sys\n",
    "#import chess_dot_com_api as capi\n",
    "import requests\n",
    "from datetime import date\n",
    "from datetime import datetime\n",
    "import json\n",
    "from dateutil.relativedelta import relativedelta\n",
    "#import googlesheet as g\n",
    "#import data\n",
    "#import ratings\n",
    "from pgn_parser import pgn, parser"
   ]
  },
  {
   "cell_type": "code",
   "execution_count": 150,
   "id": "dc930da7",
   "metadata": {},
   "outputs": [],
   "source": [
    "students_username = ['yaohengli',\n",
    "           'chengliam',\n",
    "           'blakey0313',\n",
    "           'akfunchess66',\n",
    "\n",
    "           'Leo20166',\n",
    "           'Jasminezhao777',\n",
    "           'Justinzhao777',\n",
    "           'Spade',\n",
    "           'Jason-Ma',\n",
    "           'Dingcheng0',\n",
    "           \n",
    "           'chessloverma',\n",
    "           'AndyAAYY',          \n",
    "           'whatwhywhywhat',\n",
    "           'charliezienyang',\n",
    "           'TheChessBoi9999',\n",
    "           'evejyl77',\n",
    "           'Gavin_ML']"
   ]
  },
  {
   "cell_type": "code",
   "execution_count": 6,
   "id": "96a91a4e",
   "metadata": {},
   "outputs": [],
   "source": [
    "def last_n_month(n):\n",
    "    \"\"\"\n",
    "    purpose:\n",
    "    return the month as yyyy/mm format of the past n months from now\n",
    "    \n",
    "    input -\n",
    "    n: number of months from past\n",
    "    \n",
    "    output -\n",
    "    a list of month with yyyy/mm format\n",
    "    \"\"\"\n",
    "    months_lst = []\n",
    "    for num in range(n):\n",
    "        months = date.today() + relativedelta(months=-num)\n",
    "        if months.month <= 9:\n",
    "            months_lst.append(str(months.year) + \"/\"+ \"0\" + str(months.month))\n",
    "        else:\n",
    "            months_lst.append(str(months.year) + \"/\"+ str(months.month))\n",
    "    return months_lst\n",
    "\n",
    "\n",
    "def get_archive_games(filename,\n",
    "                     user_agent = {'User-Agent': 'username: tianminlyu, email: tianminlyu@gmail.com'}):\n",
    "    \"\"\"\n",
    "    purpose:\n",
    "    \n",
    "    return games in one archive file\n",
    "    \n",
    "    input:\n",
    "    filename - filename that contains game urls\n",
    "    \n",
    "    output: \n",
    "    \"\"\"\n",
    "    games = requests.get(filename,headers = user_agent).json()['games']\n",
    "    return games\n",
    "\n",
    "def lowercase_student(student_list):\n",
    "    \"\"\"\n",
    "    to lowercase all the username\n",
    "    \n",
    "    input - list, list of student username, regardless upper or lower case\n",
    "    \n",
    "    output - list, list of student username, lower case\n",
    "    \"\"\"\n",
    "    \n",
    "    lower_students = [x.lower() for x in student_list]\n",
    "    \n",
    "    return lower_students"
   ]
  },
  {
   "cell_type": "code",
   "execution_count": 130,
   "id": "b72ff190",
   "metadata": {},
   "outputs": [
    {
     "data": {
      "text/plain": [
       "'tianminlyu'"
      ]
     },
     "execution_count": 130,
     "metadata": {},
     "output_type": "execute_result"
    }
   ],
   "source": [
    "def get_user_archives(username, \n",
    "                      start_date = '2024-01-01',\n",
    "                      end_date = '2024-07-01',\n",
    "                     user_agent = {'User-Agent': 'username: tianminlyu, email: tianminlyu@gmail.com'}):\n",
    "    \"\"\"\n",
    "    purpose:\n",
    "    get archive monthly files of specific chess.com player\n",
    "    \n",
    "    input:\n",
    "    username - username of the chess.com player\n",
    "    nr_months - integer, nummber of past months that we want to get the archives\n",
    "    # to request chess.com API\n",
    "       user_agent = {'User-Agent': 'username: tianminlyu, email: tianminlyu@gmail.com'}\n",
    "    \n",
    "    output:\n",
    "    target_month - files of archives according to months parameter\n",
    "    \"\"\"\n",
    "    url = \"https://api.chess.com/pub/player/{username}/games/archives\".format(username = username)\n",
    "    archive_request = requests.get(url, headers = user_agent)\n",
    "    archives = archive_request.json()['archives']\n",
    "    target_archive = []\n",
    "    month_format = '%Y-%m-%d'\n",
    "    start_date = datetime.strptime(start_date, month_format)\n",
    "    end_date = datetime.strptime(end_date, month_format)\n",
    "\n",
    "    for archive in archives:\n",
    "        archive_month = str(archive[-7:][:4]) + \"-\" + str(archive[-7:][5:]) + \"-01\"\n",
    " \n",
    "        # convert from string format to datetime format\n",
    "        datetime_month = datetime.strptime(archive_month, month_format)\n",
    "        if datetime_month >= start_date and datetime_month <= end_date:\n",
    "            target_archive.append(archive)\n",
    "    return target_archive\n",
    "\n",
    "tianmin_archive = get_user_archives('tianminlyu')\n",
    "tianmin_archive[0].split(\"/\")[5]"
   ]
  },
  {
   "cell_type": "code",
   "execution_count": 47,
   "id": "46986097",
   "metadata": {},
   "outputs": [
    {
     "data": {
      "text/plain": [
       "dict_keys(['url', 'pgn', 'time_control', 'end_time', 'rated', 'accuracies', 'tcn', 'uuid', 'initial_setup', 'fen', 'start_time', 'time_class', 'rules', 'white', 'black'])"
      ]
     },
     "execution_count": 47,
     "metadata": {},
     "output_type": "execute_result"
    }
   ],
   "source": [
    "get_archive_games('https://api.chess.com/pub/player/tianminlyu/games/2024/01')[0].keys()"
   ]
  },
  {
   "cell_type": "code",
   "execution_count": 40,
   "id": "40e12ce3",
   "metadata": {},
   "outputs": [
    {
     "data": {
      "text/plain": [
       "'1/432000'"
      ]
     },
     "execution_count": 40,
     "metadata": {},
     "output_type": "execute_result"
    }
   ],
   "source": [
    "get_archive_games('https://api.chess.com/pub/player/tianminlyu/games/2024/01')[0]['time_control']"
   ]
  },
  {
   "cell_type": "code",
   "execution_count": 56,
   "id": "36b3d806",
   "metadata": {},
   "outputs": [
    {
     "data": {
      "text/plain": [
       "4"
      ]
     },
     "execution_count": 56,
     "metadata": {},
     "output_type": "execute_result"
    }
   ],
   "source": [
    "len(get_archive_games('https://api.chess.com/pub/player/tianminlyu/games/2024/01'))"
   ]
  },
  {
   "cell_type": "code",
   "execution_count": 57,
   "id": "0ec808fc",
   "metadata": {},
   "outputs": [
    {
     "data": {
      "text/plain": [
       "111"
      ]
     },
     "execution_count": 57,
     "metadata": {},
     "output_type": "execute_result"
    }
   ],
   "source": [
    "len(get_archive_games('https://api.chess.com/pub/player/tianminlyu/games/2024/02'))"
   ]
  },
  {
   "cell_type": "code",
   "execution_count": 60,
   "id": "5258a943",
   "metadata": {},
   "outputs": [
    {
     "data": {
      "text/plain": [
       "dict_keys(['url', 'pgn', 'time_control', 'end_time', 'rated', 'tcn', 'uuid', 'initial_setup', 'fen', 'time_class', 'rules', 'white', 'black'])"
      ]
     },
     "execution_count": 60,
     "metadata": {},
     "output_type": "execute_result"
    }
   ],
   "source": [
    "get_archive_games('https://api.chess.com/pub/player/tianminlyu/games/2024/03')[0].keys()"
   ]
  },
  {
   "cell_type": "code",
   "execution_count": 61,
   "id": "7e0ff872",
   "metadata": {},
   "outputs": [
    {
     "data": {
      "text/plain": [
       "'rnbqkbnr/pppppppp/8/8/8/8/PPPPPPPP/RNBQKBNR w KQkq - 0 1'"
      ]
     },
     "execution_count": 61,
     "metadata": {},
     "output_type": "execute_result"
    }
   ],
   "source": [
    "get_archive_games('https://api.chess.com/pub/player/tianminlyu/games/2024/03')[0]['initial_setup']"
   ]
  },
  {
   "cell_type": "code",
   "execution_count": 62,
   "id": "088f015e",
   "metadata": {},
   "outputs": [
    {
     "data": {
      "text/plain": [
       "'bullet'"
      ]
     },
     "execution_count": 62,
     "metadata": {},
     "output_type": "execute_result"
    }
   ],
   "source": [
    "get_archive_games('https://api.chess.com/pub/player/tianminlyu/games/2024/03')[0]['time_class']"
   ]
  },
  {
   "cell_type": "code",
   "execution_count": 66,
   "id": "4b9d08c9",
   "metadata": {},
   "outputs": [
    {
     "data": {
      "text/plain": [
       "{'rating': 1157,\n",
       " 'result': 'resigned',\n",
       " '@id': 'https://api.chess.com/pub/player/chengliam',\n",
       " 'username': 'chengliam',\n",
       " 'uuid': '1eac6420-5ef9-11ed-a214-e15a746ffcea'}"
      ]
     },
     "execution_count": 66,
     "metadata": {},
     "output_type": "execute_result"
    }
   ],
   "source": [
    "get_archive_games('https://api.chess.com/pub/player/tianminlyu/games/2024/06')[-1]['white']"
   ]
  },
  {
   "cell_type": "code",
   "execution_count": 67,
   "id": "070b3fa0",
   "metadata": {},
   "outputs": [
    {
     "data": {
      "text/plain": [
       "{'rating': 1406,\n",
       " 'result': 'win',\n",
       " '@id': 'https://api.chess.com/pub/player/tianminlyu',\n",
       " 'username': 'tianminlyu',\n",
       " 'uuid': '1e195ed0-b43b-11e9-ab83-87deba9c5104'}"
      ]
     },
     "execution_count": 67,
     "metadata": {},
     "output_type": "execute_result"
    }
   ],
   "source": [
    "get_archive_games('https://api.chess.com/pub/player/tianminlyu/games/2024/06')[-1]['black']"
   ]
  },
  {
   "cell_type": "code",
   "execution_count": 137,
   "id": "f6367a58",
   "metadata": {},
   "outputs": [],
   "source": [
    "# Latest rating of rapid game, initial setup, rated game\n",
    "def latest_rating(archives):\n",
    "    for archive in [x for x in archives[::-1]]:\n",
    "        games = get_archive_games(archive)\n",
    "        #print(archive)\n",
    "        #print(len(games))\n",
    "        for game in games[::-1]:\n",
    "            if game['initial_setup'] == 'rnbqkbnr/pppppppp/8/8/8/8/PPPPPPPP/RNBQKBNR w KQkq - 0 1' and game['rated'] == True and game['time_class'] == 'rapid':\n",
    "                end_time = datetime.utcfromtimestamp(game['end_time']).strftime('%Y-%m-%d %H:%M:%S')\n",
    "                #print(end_time)\n",
    "                if archive.split(\"/\")[5] == game['white']['username']:\n",
    "                    rating = game['white']['rating']\n",
    "                else:\n",
    "                    rating = game['black']['rating']\n",
    "                return rating\n",
    "                break\n",
    "#latest_rating(\"chengliam\")"
   ]
  },
  {
   "cell_type": "code",
   "execution_count": 133,
   "id": "e8a8ca38",
   "metadata": {},
   "outputs": [],
   "source": [
    "# begin rating of rapid game, initial setup, rated game\n",
    "def begin_rating(archives):\n",
    "    for archive in [x for x in archives]:\n",
    "        games = get_archive_games(archive)\n",
    "        #print(archive)\n",
    "        #print(len(games))\n",
    "        for game in games:\n",
    "            if game['initial_setup'] == 'rnbqkbnr/pppppppp/8/8/8/8/PPPPPPPP/RNBQKBNR w KQkq - 0 1' and game['rated'] == True and game['time_class'] == 'rapid':\n",
    "                end_time = datetime.utcfromtimestamp(game['end_time']).strftime('%Y-%m-%d %H:%M:%S')\n",
    "                #print(end_time)\n",
    "                #print(game['white']['username'])\n",
    "                #print(game['black']['username'])\n",
    "                if archive.split(\"/\")[5] == game['white']['username']:\n",
    "                    rating = game['white']['rating']\n",
    "                else:\n",
    "                    rating = game['black']['rating']\n",
    "                return rating\n",
    "                break"
   ]
  },
  {
   "cell_type": "code",
   "execution_count": null,
   "id": "a4034976",
   "metadata": {},
   "outputs": [],
   "source": []
  },
  {
   "cell_type": "code",
   "execution_count": 168,
   "id": "cff84a22",
   "metadata": {},
   "outputs": [
    {
     "name": "stdout",
     "output_type": "stream",
     "text": [
      "--- 14.322993278503418 seconds ---\n",
      "--- 0.842529016382554 seconds / student---\n",
      "--- 505.5174098295324 seconds / 600 student ---\n"
     ]
    }
   ],
   "source": [
    "pro_start_time = time.time()\n",
    "\n",
    "usernames = lowercase_student(students_username)\n",
    "user_begin_ratings = []\n",
    "user_latest_ratings = []\n",
    "for user in usernames:\n",
    "    archives = get_user_archives(user, start_date= '2024-05-01', end_date= '2024-06-01')\n",
    "    user_begin_rating = begin_rating(archives)\n",
    "    user_latest_rating = latest_rating(archives)\n",
    "    user_begin_ratings.append(user_begin_rating)\n",
    "    user_latest_ratings.append(user_latest_rating)\n",
    "    \n",
    "df = pd.DataFrame()\n",
    "df['username'] = usernames\n",
    "df['begin_rating'] = user_begin_ratings\n",
    "df['latest_rating'] = user_latest_ratings\n",
    "df['change'] = df['latest_rating'] - df['begin_rating']\n",
    "df = df.drop_duplicates()\n",
    "df = df.sort_values(by = 'change', ascending = False)\n",
    "\n",
    "pro_end_time = time.time()\n",
    "\n",
    "run_time = pro_end_time - pro_start_time\n",
    "#print(run_time)\n",
    "\n",
    "print(\"--- %s seconds ---\" % (run_time))\n",
    "\n",
    "print(\"--- %s seconds / student---\" % (run_time / len(usernames)))\n",
    "\n",
    "print(\"--- %s seconds / 600 student ---\" % (run_time * 600 / len(usernames)))\n",
    "\n"
   ]
  },
  {
   "cell_type": "code",
   "execution_count": 169,
   "id": "827f6999",
   "metadata": {},
   "outputs": [
    {
     "data": {
      "text/html": [
       "<div>\n",
       "<style scoped>\n",
       "    .dataframe tbody tr th:only-of-type {\n",
       "        vertical-align: middle;\n",
       "    }\n",
       "\n",
       "    .dataframe tbody tr th {\n",
       "        vertical-align: top;\n",
       "    }\n",
       "\n",
       "    .dataframe thead th {\n",
       "        text-align: right;\n",
       "    }\n",
       "</style>\n",
       "<table border=\"1\" class=\"dataframe\">\n",
       "  <thead>\n",
       "    <tr style=\"text-align: right;\">\n",
       "      <th></th>\n",
       "      <th>username</th>\n",
       "      <th>begin_rating</th>\n",
       "      <th>latest_rating</th>\n",
       "      <th>change</th>\n",
       "    </tr>\n",
       "  </thead>\n",
       "  <tbody>\n",
       "    <tr>\n",
       "      <th>7</th>\n",
       "      <td>spade</td>\n",
       "      <td>628</td>\n",
       "      <td>928</td>\n",
       "      <td>300</td>\n",
       "    </tr>\n",
       "    <tr>\n",
       "      <th>4</th>\n",
       "      <td>leo20166</td>\n",
       "      <td>639</td>\n",
       "      <td>805</td>\n",
       "      <td>166</td>\n",
       "    </tr>\n",
       "    <tr>\n",
       "      <th>2</th>\n",
       "      <td>blakey0313</td>\n",
       "      <td>841</td>\n",
       "      <td>943</td>\n",
       "      <td>102</td>\n",
       "    </tr>\n",
       "    <tr>\n",
       "      <th>3</th>\n",
       "      <td>akfunchess66</td>\n",
       "      <td>1120</td>\n",
       "      <td>1205</td>\n",
       "      <td>85</td>\n",
       "    </tr>\n",
       "    <tr>\n",
       "      <th>5</th>\n",
       "      <td>jasminezhao777</td>\n",
       "      <td>483</td>\n",
       "      <td>555</td>\n",
       "      <td>72</td>\n",
       "    </tr>\n",
       "    <tr>\n",
       "      <th>10</th>\n",
       "      <td>chessloverma</td>\n",
       "      <td>1456</td>\n",
       "      <td>1528</td>\n",
       "      <td>72</td>\n",
       "    </tr>\n",
       "    <tr>\n",
       "      <th>1</th>\n",
       "      <td>chengliam</td>\n",
       "      <td>1539</td>\n",
       "      <td>1608</td>\n",
       "      <td>69</td>\n",
       "    </tr>\n",
       "    <tr>\n",
       "      <th>0</th>\n",
       "      <td>yaohengli</td>\n",
       "      <td>1294</td>\n",
       "      <td>1362</td>\n",
       "      <td>68</td>\n",
       "    </tr>\n",
       "    <tr>\n",
       "      <th>15</th>\n",
       "      <td>evejyl77</td>\n",
       "      <td>854</td>\n",
       "      <td>915</td>\n",
       "      <td>61</td>\n",
       "    </tr>\n",
       "    <tr>\n",
       "      <th>6</th>\n",
       "      <td>justinzhao777</td>\n",
       "      <td>391</td>\n",
       "      <td>440</td>\n",
       "      <td>49</td>\n",
       "    </tr>\n",
       "    <tr>\n",
       "      <th>12</th>\n",
       "      <td>whatwhywhywhat</td>\n",
       "      <td>713</td>\n",
       "      <td>724</td>\n",
       "      <td>11</td>\n",
       "    </tr>\n",
       "    <tr>\n",
       "      <th>16</th>\n",
       "      <td>gavin_ml</td>\n",
       "      <td>1145</td>\n",
       "      <td>1140</td>\n",
       "      <td>-5</td>\n",
       "    </tr>\n",
       "    <tr>\n",
       "      <th>13</th>\n",
       "      <td>charliezienyang</td>\n",
       "      <td>812</td>\n",
       "      <td>792</td>\n",
       "      <td>-20</td>\n",
       "    </tr>\n",
       "    <tr>\n",
       "      <th>8</th>\n",
       "      <td>jason-ma</td>\n",
       "      <td>1117</td>\n",
       "      <td>1094</td>\n",
       "      <td>-23</td>\n",
       "    </tr>\n",
       "    <tr>\n",
       "      <th>11</th>\n",
       "      <td>andyaayy</td>\n",
       "      <td>728</td>\n",
       "      <td>689</td>\n",
       "      <td>-39</td>\n",
       "    </tr>\n",
       "    <tr>\n",
       "      <th>14</th>\n",
       "      <td>thechessboi9999</td>\n",
       "      <td>1084</td>\n",
       "      <td>1015</td>\n",
       "      <td>-69</td>\n",
       "    </tr>\n",
       "    <tr>\n",
       "      <th>9</th>\n",
       "      <td>dingcheng0</td>\n",
       "      <td>944</td>\n",
       "      <td>819</td>\n",
       "      <td>-125</td>\n",
       "    </tr>\n",
       "  </tbody>\n",
       "</table>\n",
       "</div>"
      ],
      "text/plain": [
       "           username  begin_rating  latest_rating  change\n",
       "7             spade           628            928     300\n",
       "4          leo20166           639            805     166\n",
       "2        blakey0313           841            943     102\n",
       "3      akfunchess66          1120           1205      85\n",
       "5    jasminezhao777           483            555      72\n",
       "10     chessloverma          1456           1528      72\n",
       "1         chengliam          1539           1608      69\n",
       "0         yaohengli          1294           1362      68\n",
       "15         evejyl77           854            915      61\n",
       "6     justinzhao777           391            440      49\n",
       "12   whatwhywhywhat           713            724      11\n",
       "16         gavin_ml          1145           1140      -5\n",
       "13  charliezienyang           812            792     -20\n",
       "8          jason-ma          1117           1094     -23\n",
       "11         andyaayy           728            689     -39\n",
       "14  thechessboi9999          1084           1015     -69\n",
       "9        dingcheng0           944            819    -125"
      ]
     },
     "execution_count": 169,
     "metadata": {},
     "output_type": "execute_result"
    }
   ],
   "source": [
    "df.sort_values(by = 'change', ascending = False)"
   ]
  },
  {
   "cell_type": "code",
   "execution_count": 170,
   "id": "fec04682",
   "metadata": {},
   "outputs": [
    {
     "data": {
      "text/html": [
       "<div>\n",
       "<style scoped>\n",
       "    .dataframe tbody tr th:only-of-type {\n",
       "        vertical-align: middle;\n",
       "    }\n",
       "\n",
       "    .dataframe tbody tr th {\n",
       "        vertical-align: top;\n",
       "    }\n",
       "\n",
       "    .dataframe thead th {\n",
       "        text-align: right;\n",
       "    }\n",
       "</style>\n",
       "<table border=\"1\" class=\"dataframe\">\n",
       "  <thead>\n",
       "    <tr style=\"text-align: right;\">\n",
       "      <th></th>\n",
       "      <th>username</th>\n",
       "      <th>begin_rating</th>\n",
       "      <th>latest_rating</th>\n",
       "      <th>change</th>\n",
       "    </tr>\n",
       "  </thead>\n",
       "  <tbody>\n",
       "    <tr>\n",
       "      <th>1</th>\n",
       "      <td>chengliam</td>\n",
       "      <td>1539</td>\n",
       "      <td>1608</td>\n",
       "      <td>69</td>\n",
       "    </tr>\n",
       "    <tr>\n",
       "      <th>10</th>\n",
       "      <td>chessloverma</td>\n",
       "      <td>1456</td>\n",
       "      <td>1528</td>\n",
       "      <td>72</td>\n",
       "    </tr>\n",
       "    <tr>\n",
       "      <th>0</th>\n",
       "      <td>yaohengli</td>\n",
       "      <td>1294</td>\n",
       "      <td>1362</td>\n",
       "      <td>68</td>\n",
       "    </tr>\n",
       "    <tr>\n",
       "      <th>3</th>\n",
       "      <td>akfunchess66</td>\n",
       "      <td>1120</td>\n",
       "      <td>1205</td>\n",
       "      <td>85</td>\n",
       "    </tr>\n",
       "    <tr>\n",
       "      <th>16</th>\n",
       "      <td>gavin_ml</td>\n",
       "      <td>1145</td>\n",
       "      <td>1140</td>\n",
       "      <td>-5</td>\n",
       "    </tr>\n",
       "    <tr>\n",
       "      <th>8</th>\n",
       "      <td>jason-ma</td>\n",
       "      <td>1117</td>\n",
       "      <td>1094</td>\n",
       "      <td>-23</td>\n",
       "    </tr>\n",
       "    <tr>\n",
       "      <th>14</th>\n",
       "      <td>thechessboi9999</td>\n",
       "      <td>1084</td>\n",
       "      <td>1015</td>\n",
       "      <td>-69</td>\n",
       "    </tr>\n",
       "    <tr>\n",
       "      <th>2</th>\n",
       "      <td>blakey0313</td>\n",
       "      <td>841</td>\n",
       "      <td>943</td>\n",
       "      <td>102</td>\n",
       "    </tr>\n",
       "    <tr>\n",
       "      <th>7</th>\n",
       "      <td>spade</td>\n",
       "      <td>628</td>\n",
       "      <td>928</td>\n",
       "      <td>300</td>\n",
       "    </tr>\n",
       "    <tr>\n",
       "      <th>15</th>\n",
       "      <td>evejyl77</td>\n",
       "      <td>854</td>\n",
       "      <td>915</td>\n",
       "      <td>61</td>\n",
       "    </tr>\n",
       "    <tr>\n",
       "      <th>9</th>\n",
       "      <td>dingcheng0</td>\n",
       "      <td>944</td>\n",
       "      <td>819</td>\n",
       "      <td>-125</td>\n",
       "    </tr>\n",
       "    <tr>\n",
       "      <th>4</th>\n",
       "      <td>leo20166</td>\n",
       "      <td>639</td>\n",
       "      <td>805</td>\n",
       "      <td>166</td>\n",
       "    </tr>\n",
       "    <tr>\n",
       "      <th>13</th>\n",
       "      <td>charliezienyang</td>\n",
       "      <td>812</td>\n",
       "      <td>792</td>\n",
       "      <td>-20</td>\n",
       "    </tr>\n",
       "    <tr>\n",
       "      <th>12</th>\n",
       "      <td>whatwhywhywhat</td>\n",
       "      <td>713</td>\n",
       "      <td>724</td>\n",
       "      <td>11</td>\n",
       "    </tr>\n",
       "    <tr>\n",
       "      <th>11</th>\n",
       "      <td>andyaayy</td>\n",
       "      <td>728</td>\n",
       "      <td>689</td>\n",
       "      <td>-39</td>\n",
       "    </tr>\n",
       "    <tr>\n",
       "      <th>5</th>\n",
       "      <td>jasminezhao777</td>\n",
       "      <td>483</td>\n",
       "      <td>555</td>\n",
       "      <td>72</td>\n",
       "    </tr>\n",
       "    <tr>\n",
       "      <th>6</th>\n",
       "      <td>justinzhao777</td>\n",
       "      <td>391</td>\n",
       "      <td>440</td>\n",
       "      <td>49</td>\n",
       "    </tr>\n",
       "  </tbody>\n",
       "</table>\n",
       "</div>"
      ],
      "text/plain": [
       "           username  begin_rating  latest_rating  change\n",
       "1         chengliam          1539           1608      69\n",
       "10     chessloverma          1456           1528      72\n",
       "0         yaohengli          1294           1362      68\n",
       "3      akfunchess66          1120           1205      85\n",
       "16         gavin_ml          1145           1140      -5\n",
       "8          jason-ma          1117           1094     -23\n",
       "14  thechessboi9999          1084           1015     -69\n",
       "2        blakey0313           841            943     102\n",
       "7             spade           628            928     300\n",
       "15         evejyl77           854            915      61\n",
       "9        dingcheng0           944            819    -125\n",
       "4          leo20166           639            805     166\n",
       "13  charliezienyang           812            792     -20\n",
       "12   whatwhywhywhat           713            724      11\n",
       "11         andyaayy           728            689     -39\n",
       "5    jasminezhao777           483            555      72\n",
       "6     justinzhao777           391            440      49"
      ]
     },
     "execution_count": 170,
     "metadata": {},
     "output_type": "execute_result"
    }
   ],
   "source": [
    "df.sort_values(by = 'latest_rating', ascending = False)"
   ]
  },
  {
   "cell_type": "code",
   "execution_count": null,
   "id": "a70abab1",
   "metadata": {},
   "outputs": [],
   "source": []
  }
 ],
 "metadata": {
  "kernelspec": {
   "display_name": "Python 3 (ipykernel)",
   "language": "python",
   "name": "python3"
  },
  "language_info": {
   "codemirror_mode": {
    "name": "ipython",
    "version": 3
   },
   "file_extension": ".py",
   "mimetype": "text/x-python",
   "name": "python",
   "nbconvert_exporter": "python",
   "pygments_lexer": "ipython3",
   "version": "3.9.7"
  }
 },
 "nbformat": 4,
 "nbformat_minor": 5
}
