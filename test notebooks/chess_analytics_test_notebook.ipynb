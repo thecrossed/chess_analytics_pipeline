{
 "cells": [
  {
   "cell_type": "code",
   "execution_count": 7,
   "id": "0c0b3c4b",
   "metadata": {},
   "outputs": [],
   "source": [
    "import requests\n",
    "from datetime import date\n",
    "from datetime import datetime\n",
    "import json\n",
    "from dateutil.relativedelta import relativedelta\n",
    "from pgn_parser import pgn, parser\n",
    "\n",
    "def last_n_month(n):\n",
    "    \"\"\"\n",
    "    purpose:\n",
    "    return the month as yyyy/mm format of the past n months from now\n",
    "    \n",
    "    input -\n",
    "    n: number of months from past\n",
    "    \n",
    "    output -\n",
    "    a list of month with yyyy/mm format\n",
    "    \"\"\"\n",
    "    months_lst = []\n",
    "    for num in range(n):\n",
    "        months = date.today() + relativedelta(months=-num)\n",
    "        if months.month <= 9:\n",
    "            months_lst.append(str(months.year) + \"/\"+ \"0\" + str(months.month))\n",
    "        else:\n",
    "            months_lst.append(str(months.year) + \"/\"+ str(months.month))\n",
    "    return months_lst\n",
    "\n",
    "def get_user_archives(username, \n",
    "                      nr_months,\n",
    "                     user_agent = {'User-Agent': 'username: tianminlyu, email: tianminlyu@gmail.com'}):\n",
    "    \"\"\"\n",
    "    purpose:\n",
    "    get archive monthly files of specific chess.com player\n",
    "    \n",
    "    input:\n",
    "    username - username of the chess.com player\n",
    "    nr_months - integer, nummber of past months that we want to get the archives\n",
    "    # to request chess.com API\n",
    "       user_agent = {'User-Agent': 'username: tianminlyu, email: tianminlyu@gmail.com'}\n",
    "    \n",
    "    output:\n",
    "    target_month - files of archives according to months parameter\n",
    "    \"\"\"\n",
    "    url = \"https://api.chess.com/pub/player/{username}/games/archives\".format(username = username)\n",
    "    archive_request = requests.get(url, headers = user_agent)\n",
    "    archives = archive_request.json()['archives']\n",
    "    past_months = last_n_month(nr_months)\n",
    "    target_month = []\n",
    "    for archive in archives:\n",
    "        if archive[-7:] in past_months:\n",
    "            target_month.append(archive)\n",
    "    return target_month\n",
    "    \n",
    "def get_archive_games(filename,\n",
    "                     user_agent = {'User-Agent': 'username: tianminlyu, email: tianminlyu@gmail.com'}):\n",
    "    \"\"\"\n",
    "    purpose:\n",
    "    \n",
    "    return games in one archive file\n",
    "    \n",
    "    input:\n",
    "    filename - filename that contains game urls\n",
    "    \n",
    "    output: \n",
    "    \"\"\"\n",
    "    games = requests.get(filename,headers = user_agent).json()['games']\n",
    "    return games"
   ]
  },
  {
   "cell_type": "code",
   "execution_count": 10,
   "id": "dc6f2756",
   "metadata": {},
   "outputs": [
    {
     "data": {
      "text/plain": [
       "{'avatar': 'https://images.chesscomfiles.com/uploads/v1/user/63859484.f9819c7d.200x200o.798706548398.jpeg',\n",
       " 'player_id': 63859484,\n",
       " '@id': 'https://api.chess.com/pub/player/tianminlyu',\n",
       " 'url': 'https://www.chess.com/member/tianminlyu',\n",
       " 'name': 'Tianmin Lyu',\n",
       " 'username': 'tianminlyu',\n",
       " 'followers': 146,\n",
       " 'country': 'https://api.chess.com/pub/country/SE',\n",
       " 'last_online': 1722009545,\n",
       " 'joined': 1564650161,\n",
       " 'status': 'premium',\n",
       " 'is_streamer': False,\n",
       " 'verified': False,\n",
       " 'league': 'Champion',\n",
       " 'streaming_platforms': []}"
      ]
     },
     "execution_count": 10,
     "metadata": {},
     "output_type": "execute_result"
    }
   ],
   "source": [
    "def get_user_profile(username,\n",
    "                     user_agent = {'User-Agent': 'username: tianminlyu, email: tianminlyu@gmail.com'}):\n",
    "    url = \"https://api.chess.com/pub/player/{username}\".format(username = username)\n",
    "    archive_request = requests.get(url, headers = user_agent)\n",
    "    archives = archive_request.json()\n",
    "    return archives\n",
    "get_user_profile(\"tianminlyu\")"
   ]
  },
  {
   "cell_type": "code",
   "execution_count": null,
   "id": "8c93c2a7",
   "metadata": {},
   "outputs": [],
   "source": [
    "def get_user_profile(username,\n",
    "                     user_agent = {'User-Agent': 'username: tianminlyu, email: tianminlyu@gmail.com'}):\n",
    "    url = \"https://api.chess.com/pub/player/{username}\".format(username = username)\n",
    "    archive_request = requests.get(url, headers = user_agent)\n",
    "    archives = archive_request.json()\n",
    "    return archives\n",
    "get_user_profile(\"tianminlyu\")"
   ]
  },
  {
   "cell_type": "code",
   "execution_count": 95,
   "id": "5d1a869b",
   "metadata": {},
   "outputs": [],
   "source": [
    "text = get_archive_games(tianmin[0])[0]['pgn']"
   ]
  },
  {
   "cell_type": "code",
   "execution_count": 96,
   "id": "71a77616",
   "metadata": {},
   "outputs": [],
   "source": [
    "game = parser.parse(text, actions=pgn.Actions())"
   ]
  },
  {
   "cell_type": "code",
   "execution_count": 106,
   "id": "c51427be",
   "metadata": {},
   "outputs": [
    {
     "ename": "TypeError",
     "evalue": "'>' not supported between instances of 'int' and 'str'",
     "output_type": "error",
     "traceback": [
      "\u001b[0;31m---------------------------------------------------------------------------\u001b[0m",
      "\u001b[0;31mTypeError\u001b[0m                                 Traceback (most recent call last)",
      "\u001b[0;32m/var/folders/gm/sqkz8yg12_d12sb2rtq76mzw0000gn/T/ipykernel_73421/1726434147.py\u001b[0m in \u001b[0;36m<module>\u001b[0;34m\u001b[0m\n\u001b[0;32m----> 1\u001b[0;31m \u001b[0mgame\u001b[0m\u001b[0;34m.\u001b[0m\u001b[0mmove\u001b[0m\u001b[0;34m(\u001b[0m\u001b[0;34m\"5..\"\u001b[0m\u001b[0;34m)\u001b[0m\u001b[0;34m\u001b[0m\u001b[0;34m\u001b[0m\u001b[0m\n\u001b[0m",
      "\u001b[0;32m/opt/anaconda3/lib/python3.9/site-packages/pgn_parser/pgn.py\u001b[0m in \u001b[0;36mmove\u001b[0;34m(self, find)\u001b[0m\n\u001b[1;32m    342\u001b[0m         \u001b[0mAn\u001b[0m \u001b[0malias\u001b[0m \u001b[0;32mfor\u001b[0m \u001b[0mself\u001b[0m\u001b[0;34m.\u001b[0m\u001b[0mmovetext\u001b[0m\u001b[0;34m.\u001b[0m\u001b[0mmove\u001b[0m\u001b[0;34m(\u001b[0m\u001b[0;34m)\u001b[0m\u001b[0;34m\u001b[0m\u001b[0;34m\u001b[0m\u001b[0m\n\u001b[1;32m    343\u001b[0m         \"\"\"\n\u001b[0;32m--> 344\u001b[0;31m         \u001b[0;32mreturn\u001b[0m \u001b[0mself\u001b[0m\u001b[0;34m.\u001b[0m\u001b[0mmovetext\u001b[0m\u001b[0;34m.\u001b[0m\u001b[0mmove\u001b[0m\u001b[0;34m(\u001b[0m\u001b[0mfind\u001b[0m\u001b[0;34m)\u001b[0m\u001b[0;34m\u001b[0m\u001b[0;34m\u001b[0m\u001b[0m\n\u001b[0m",
      "\u001b[0;32m/opt/anaconda3/lib/python3.9/site-packages/pgn_parser/pgn.py\u001b[0m in \u001b[0;36mmove\u001b[0;34m(self, find)\u001b[0m\n\u001b[1;32m    253\u001b[0m         \u001b[0mlast\u001b[0m \u001b[0;34m=\u001b[0m \u001b[0mself\u001b[0m\u001b[0;34m[\u001b[0m\u001b[0;34m-\u001b[0m\u001b[0;36m1\u001b[0m\u001b[0;34m]\u001b[0m\u001b[0;34m.\u001b[0m\u001b[0mmove_number\u001b[0m\u001b[0;34m\u001b[0m\u001b[0;34m\u001b[0m\u001b[0m\n\u001b[1;32m    254\u001b[0m         \u001b[0mfail\u001b[0m \u001b[0;34m=\u001b[0m \u001b[0;34m\"Move number {} is not in this game. First is {}, last is {}.\"\u001b[0m\u001b[0;34m.\u001b[0m\u001b[0mformat\u001b[0m\u001b[0;34m(\u001b[0m\u001b[0mfind\u001b[0m\u001b[0;34m,\u001b[0m \u001b[0mfirst\u001b[0m\u001b[0;34m,\u001b[0m \u001b[0mlast\u001b[0m\u001b[0;34m)\u001b[0m\u001b[0;34m\u001b[0m\u001b[0;34m\u001b[0m\u001b[0m\n\u001b[0;32m--> 255\u001b[0;31m         \u001b[0;32mif\u001b[0m \u001b[0mfirst\u001b[0m \u001b[0;34m>\u001b[0m \u001b[0mfind\u001b[0m\u001b[0;34m:\u001b[0m\u001b[0;34m\u001b[0m\u001b[0;34m\u001b[0m\u001b[0m\n\u001b[0m\u001b[1;32m    256\u001b[0m             \u001b[0;32mraise\u001b[0m \u001b[0mPGNGameException\u001b[0m\u001b[0;34m(\u001b[0m\u001b[0mfail\u001b[0m\u001b[0;34m)\u001b[0m\u001b[0;34m\u001b[0m\u001b[0;34m\u001b[0m\u001b[0m\n\u001b[1;32m    257\u001b[0m \u001b[0;34m\u001b[0m\u001b[0m\n",
      "\u001b[0;31mTypeError\u001b[0m: '>' not supported between instances of 'int' and 'str'"
     ]
    }
   ],
   "source": [
    "game.move(\"5..\")"
   ]
  },
  {
   "cell_type": "code",
   "execution_count": 113,
   "id": "a5da71f6",
   "metadata": {},
   "outputs": [
    {
     "data": {
      "text/plain": [
       "88"
      ]
     },
     "execution_count": 113,
     "metadata": {},
     "output_type": "execute_result"
    }
   ],
   "source": [
    "len(game.movetext)"
   ]
  },
  {
   "cell_type": "code",
   "execution_count": 3,
   "id": "ce4d8e9d",
   "metadata": {},
   "outputs": [],
   "source": [
    "#import chess_dot_com_api as capi\n",
    "import time\n",
    "from datetime import date\n",
    "from datetime import datetime\n",
    "from dateutil.relativedelta import relativedelta\n",
    "\n",
    "# student data - will be transferred to database\n",
    "students_username = ['yaohengli',\n",
    "           'chessloverma',\n",
    "           'chengliam',\n",
    "           'emmaxli',\n",
    "           'akfunchess66',\n",
    "           \n",
    "           'willhanzhu',\n",
    "           'TLPAWN',\n",
    "           'Jasminezhao777',\n",
    "           'Justinzhao777',\n",
    "           'Milkmilkok',\n",
    "           'zlicyigloo',\n",
    "           'Zora_zhu',\n",
    "           'dogwater1012000',\n",
    "           \n",
    "           'AJLinVH',\n",
    "           'charliezienyang',\n",
    "           'whatwhywhywhat',\n",
    "           'ZhouYuanLi',\n",
    "           'Logicalcheetah26',\n",
    "           'Nolan330',\n",
    "           'antleo0314',\n",
    "           'AntLeoChess']\n",
    "\n",
    "def lowercase_student(student_list):\n",
    "    \"\"\"\n",
    "    to lowercase all the username\n",
    "    \n",
    "    input - list, list of student username, regardless upper or lower case\n",
    "    \n",
    "    output - list, list of student username, lower case\n",
    "    \"\"\"\n",
    "    \n",
    "    lower_students = [x.lower() for x in student_list]\n",
    "    \n",
    "    return lower_students\n",
    "\n",
    "\n",
    "def game_data_collect():\n",
    "    \"\"\"\n",
    "    collect game data for each student from the json raw data -\n",
    "    end_times\n",
    "    white_players\n",
    "    black_players\n",
    "    time_controls\n",
    "    urls\n",
    "    \"\"\"\n",
    "    end_times = []\n",
    "    white_players = []\n",
    "    black_players = []\n",
    "    time_controls = []\n",
    "    urls = []\n",
    "    results = []\n",
    "    white_rating = []\n",
    "    black_rating = []\n",
    "    white_accuracy = []\n",
    "    black_accuracy = []\n",
    "    \n",
    "    students = lowercase_student(students_username)\n",
    "    for student in students:\n",
    "        print(student.upper())\n",
    "        archives = get_user_archives(student,2)\n",
    "        #print(archives)\n",
    "        for archive in archives[::-1]:\n",
    "            games = get_archive_games(archive)\n",
    "            for game in games[::-1]:\n",
    "                #print(game)\n",
    "                if (game['white']['username'].lower() == student.lower() and game['black']['username'].lower() in students):\n",
    "                    end_time = datetime.utcfromtimestamp(game['end_time']).strftime('%Y-%m-%d %H:%M:%S')\n",
    "                    print(end_time)\n",
    "                    print(\"[w]\" + student)\n",
    "                    print(\"[b]\" + game['black']['username'])\n",
    "                    print(\"time control: \" + game['time_control'])\n",
    "                    print(game['pgn'].split(\"\\n\")[-2].split(\" \")[-1]) # result\n",
    "                    print(game['accuracies']['white'])\n",
    "                    print(game['accuracies']['black'])\n",
    "                    print(\"          \")\n",
    "                    \n",
    "                    end_times.append(end_time)\n",
    "                    white_players.append(student.lower())\n",
    "                    black_players.append(game['black']['username'].lower())\n",
    "                    time_controls.append(game['time_control'])\n",
    "                    urls.append(game['url'])\n",
    "                    results.append(game['pgn'].split(\"\\n\")[-2].split(\" \")[-1])\n",
    "                    white_rating.append(game['white']['rating'])\n",
    "                    black_rating.append(game['black']['rating'])\n",
    "                    white_accuracy.append(game['accuracies']['white'])\n",
    "                    black_accuracy.append(game['accuracies']['black'])\n",
    "\n",
    "                    \n",
    "                elif (game['black']['username'].lower() == student.lower() and game['white']['username'].lower() in students):\n",
    "                    end_time = datetime.utcfromtimestamp(game['end_time']).strftime('%Y-%m-%d %H:%M:%S')\n",
    "                    print(end_time)\n",
    "                    print(\"[w]\" + game['white']['username'])\n",
    "                    print(\"[b]\" + student)\n",
    "                    print(\"time control: \" + game['time_control'])\n",
    "                    print(game['pgn'].split(\"\\n\")[-2].split(\" \")[-1])\n",
    "                    print(game['accuracies']['white'])\n",
    "                    print(game['accuracies']['black'])\n",
    "                    print(\"          \")\n",
    "                    \n",
    "                    end_times.append(end_time)\n",
    "                    white_players.append(game['white']['username'].lower())\n",
    "                    black_players.append(student.lower())\n",
    "                    time_controls.append(game['time_control'])\n",
    "                    urls.append(game['url'])\n",
    "                    results.append(game['pgn'].split(\"\\n\")[-2].split(\" \")[-1])\n",
    "                    white_rating.append(game['white']['rating'])\n",
    "                    black_rating.append(game['black']['rating'])\n",
    "\n",
    "                    white_accuracy.append(game['accuracies']['white'])\n",
    "                    black_accuracy.append(game['accuracies']['black'])\n",
    "\n",
    "\n",
    "    print(\"---------\")\n",
    "    return end_times, white_players, black_players, time_controls, urls, results, white_rating, black_rating, white_accuracy, black_accuracy"
   ]
  },
  {
   "cell_type": "code",
   "execution_count": 160,
   "id": "26d1c8e4",
   "metadata": {},
   "outputs": [],
   "source": [
    "def move_data_collect():\n",
    "    \"\"\"\n",
    "    collect move data for each game from the json raw data -\n",
    "\n",
    "    \"\"\"\n",
    "    end_times = []\n",
    "    urls = []\n",
    "    move_num = []\n",
    "    move = []\n",
    "    clk = []\n",
    "    \n",
    "    students = lowercase_student(students_username)\n",
    "    for student in students:\n",
    "        print(student.upper())\n",
    "        archives = get_user_archives(student,2)\n",
    "        #print(archives)\n",
    "        for archive in archives[::-1]:\n",
    "            games = get_archive_games(archive)\n",
    "            for game in games[::-1]:\n",
    "                #print(game)\n",
    "                if (game['white']['username'].lower() == student.lower() and game['black']['username'].lower() in students):\n",
    "                    url = game['url']\n",
    "                    end_time = datetime.utcfromtimestamp(game['end_time']).strftime('%Y-%m-%d %H:%M:%S')\n",
    "                    moves = parser.parse(game['pgn'] , actions=pgn.Actions())\n",
    "                    move_text = moves.movetext\n",
    "                    for i in range(len(move_text) - 1):\n",
    "                        if i % 2 == 0:\n",
    "                            \n",
    "                            move_num.append( int(i / 2) + 1 )\n",
    "                            move.append(str(move_text[i]).split(\"{\")[0].split(\".\")[-1])\n",
    "                            clk.append(str(move_text[i]).split(\"%clk \")[-1].split(\"]}\")[0])\n",
    "                            urls.append(url)\n",
    "                            end_times.append(end_time)\n",
    "                        else:\n",
    "                            move_num.append( int(i / 2) + 1 )\n",
    "                            move.append(str(move_text[i]).split(\"{\")[0].split(\"...\")[-1])\n",
    "                            clk.append(str(move_text[i]).split(\"%clk \")[-1].split(\"]}\")[0])\n",
    "                            urls.append(url)\n",
    "                            end_times.append(end_time)\n",
    "\n",
    "                            \n",
    "\n",
    "\n",
    "                    \n",
    "                elif (game['black']['username'].lower() == student.lower() and game['white']['username'].lower() in students):\n",
    "                    url = game['url']\n",
    "                    end_time = datetime.utcfromtimestamp(game['end_time']).strftime('%Y-%m-%d %H:%M:%S')\n",
    "                    moves = parser.parse(game['pgn'] , actions=pgn.Actions())\n",
    "                    move_text = moves.movetext\n",
    "                    for i in range(len(move_text) - 1):\n",
    "                        if i % 2 == 0:\n",
    "                            \n",
    "                            move_num.append( int(i / 2) + 1 )\n",
    "                            move.append(str(move_text[i]).split(\"{\")[0].split(\".\")[-1])\n",
    "                            clk.append(str(move_text[i]).split(\"%clk \")[-1].split(\"]}\")[0])\n",
    "                            urls.append(url)\n",
    "                            end_times.append(end_time)\n",
    "                        else:\n",
    "                            move_num.append( int(i / 2) + 1 )\n",
    "                            move.append(str(move_text[i]).split(\"{\")[0].split(\"...\")[-1])\n",
    "                            clk.append(str(move_text[i]).split(\"%clk \")[-1].split(\"]}\")[0])\n",
    "                            urls.append(url)\n",
    "                            end_times.append(end_time)\n",
    "\n",
    "\n",
    "\n",
    "\n",
    "\n",
    "\n",
    "    print(\"---------\")\n",
    "    return move_num, move, clk, urls, end_times"
   ]
  },
  {
   "cell_type": "code",
   "execution_count": null,
   "id": "f4180d0d",
   "metadata": {},
   "outputs": [],
   "source": []
  },
  {
   "cell_type": "code",
   "execution_count": 161,
   "id": "67f7091b",
   "metadata": {},
   "outputs": [],
   "source": [
    "def to_pandas_move(fetched_data):\n",
    "    \"\"\"\n",
    "    Import fetched game data into a pandas dataframe\n",
    "    \n",
    "    and then sort and drop duplicates\n",
    "    \"\"\"\n",
    "    df = pd.DataFrame()\n",
    "    df['move_num'] = fetched_data[0]\n",
    "    df['move'] = fetched_data[1]\n",
    "    df['clk'] = fetched_data[2]\n",
    "    df['urls'] = fetched_data[3]\n",
    "    df['end_time'] = fetched_data[4]\n",
    "    df = df.astype('str')\n",
    "    df['move_num'] = df['move_num'].astype('int')\n",
    "    df = df.drop_duplicates()\n",
    "    df = df.sort_values(by = ['end_time','move_num'], ascending = [False,True])\n",
    "    \n",
    "    return df"
   ]
  },
  {
   "cell_type": "code",
   "execution_count": 162,
   "id": "bd0aa7c7",
   "metadata": {},
   "outputs": [
    {
     "name": "stdout",
     "output_type": "stream",
     "text": [
      "YAOHENGLI\n",
      "CHESSLOVERMA\n",
      "CHENGLIAM\n",
      "EMMAXLI\n",
      "AKFUNCHESS66\n",
      "WILLHANZHU\n",
      "TLPAWN\n",
      "JASMINEZHAO777\n",
      "JUSTINZHAO777\n",
      "MILKMILKOK\n",
      "ZLICYIGLOO\n",
      "ZORA_ZHU\n",
      "DOGWATER1012000\n",
      "AJLINVH\n",
      "CHARLIEZIENYANG\n",
      "WHATWHYWHYWHAT\n",
      "ZHOUYUANLI\n",
      "LOGICALCHEETAH26\n",
      "NOLAN330\n",
      "ANTLEO0314\n",
      "ANTLEOCHESS\n",
      "---------\n"
     ]
    }
   ],
   "source": [
    "df = to_pandas_move(move_data_collect())"
   ]
  },
  {
   "cell_type": "code",
   "execution_count": 163,
   "id": "119b1c66",
   "metadata": {},
   "outputs": [
    {
     "data": {
      "text/plain": [
       "(4724, 5)"
      ]
     },
     "execution_count": 163,
     "metadata": {},
     "output_type": "execute_result"
    }
   ],
   "source": [
    "df.shape"
   ]
  },
  {
   "cell_type": "code",
   "execution_count": 164,
   "id": "73154f70",
   "metadata": {},
   "outputs": [
    {
     "data": {
      "text/html": [
       "<div>\n",
       "<style scoped>\n",
       "    .dataframe tbody tr th:only-of-type {\n",
       "        vertical-align: middle;\n",
       "    }\n",
       "\n",
       "    .dataframe tbody tr th {\n",
       "        vertical-align: top;\n",
       "    }\n",
       "\n",
       "    .dataframe thead th {\n",
       "        text-align: right;\n",
       "    }\n",
       "</style>\n",
       "<table border=\"1\" class=\"dataframe\">\n",
       "  <thead>\n",
       "    <tr style=\"text-align: right;\">\n",
       "      <th></th>\n",
       "      <th>move_num</th>\n",
       "      <th>move</th>\n",
       "      <th>clk</th>\n",
       "      <th>urls</th>\n",
       "      <th>end_time</th>\n",
       "    </tr>\n",
       "  </thead>\n",
       "  <tbody>\n",
       "    <tr>\n",
       "      <th>481</th>\n",
       "      <td>1</td>\n",
       "      <td>e4</td>\n",
       "      <td>167:59:56</td>\n",
       "      <td>https://www.chess.com/game/daily/561871913</td>\n",
       "      <td>2023-10-02 20:05:42</td>\n",
       "    </tr>\n",
       "    <tr>\n",
       "      <th>482</th>\n",
       "      <td>1</td>\n",
       "      <td>d5</td>\n",
       "      <td>146:04:55</td>\n",
       "      <td>https://www.chess.com/game/daily/561871913</td>\n",
       "      <td>2023-10-02 20:05:42</td>\n",
       "    </tr>\n",
       "    <tr>\n",
       "      <th>483</th>\n",
       "      <td>2</td>\n",
       "      <td>exd5</td>\n",
       "      <td>166:50:20</td>\n",
       "      <td>https://www.chess.com/game/daily/561871913</td>\n",
       "      <td>2023-10-02 20:05:42</td>\n",
       "    </tr>\n",
       "    <tr>\n",
       "      <th>484</th>\n",
       "      <td>2</td>\n",
       "      <td>Qxd5</td>\n",
       "      <td>166:38:24</td>\n",
       "      <td>https://www.chess.com/game/daily/561871913</td>\n",
       "      <td>2023-10-02 20:05:42</td>\n",
       "    </tr>\n",
       "    <tr>\n",
       "      <th>485</th>\n",
       "      <td>3</td>\n",
       "      <td>Nc3</td>\n",
       "      <td>166:42:26</td>\n",
       "      <td>https://www.chess.com/game/daily/561871913</td>\n",
       "      <td>2023-10-02 20:05:42</td>\n",
       "    </tr>\n",
       "    <tr>\n",
       "      <th>...</th>\n",
       "      <td>...</td>\n",
       "      <td>...</td>\n",
       "      <td>...</td>\n",
       "      <td>...</td>\n",
       "      <td>...</td>\n",
       "    </tr>\n",
       "    <tr>\n",
       "      <th>3441</th>\n",
       "      <td>17</td>\n",
       "      <td>g3</td>\n",
       "      <td>0:15:53.8</td>\n",
       "      <td>https://www.chess.com/game/live/87405096971</td>\n",
       "      <td>2023-09-02 14:52:18</td>\n",
       "    </tr>\n",
       "    <tr>\n",
       "      <th>3442</th>\n",
       "      <td>17</td>\n",
       "      <td>Qg4</td>\n",
       "      <td>0:15:56.3</td>\n",
       "      <td>https://www.chess.com/game/live/87405096971</td>\n",
       "      <td>2023-09-02 14:52:18</td>\n",
       "    </tr>\n",
       "    <tr>\n",
       "      <th>3443</th>\n",
       "      <td>18</td>\n",
       "      <td>Qa5</td>\n",
       "      <td>0:15:48.4</td>\n",
       "      <td>https://www.chess.com/game/live/87405096971</td>\n",
       "      <td>2023-09-02 14:52:18</td>\n",
       "    </tr>\n",
       "    <tr>\n",
       "      <th>3444</th>\n",
       "      <td>18</td>\n",
       "      <td>Qf3</td>\n",
       "      <td>0:16:00.4</td>\n",
       "      <td>https://www.chess.com/game/live/87405096971</td>\n",
       "      <td>2023-09-02 14:52:18</td>\n",
       "    </tr>\n",
       "    <tr>\n",
       "      <th>3445</th>\n",
       "      <td>19</td>\n",
       "      <td>Qd5</td>\n",
       "      <td>0:15:40.7</td>\n",
       "      <td>https://www.chess.com/game/live/87405096971</td>\n",
       "      <td>2023-09-02 14:52:18</td>\n",
       "    </tr>\n",
       "  </tbody>\n",
       "</table>\n",
       "<p>4724 rows × 5 columns</p>\n",
       "</div>"
      ],
      "text/plain": [
       "      move_num    move        clk  \\\n",
       "481          1     e4   167:59:56   \n",
       "482          1     d5   146:04:55   \n",
       "483          2   exd5   166:50:20   \n",
       "484          2   Qxd5   166:38:24   \n",
       "485          3    Nc3   166:42:26   \n",
       "...        ...     ...        ...   \n",
       "3441        17     g3   0:15:53.8   \n",
       "3442        17    Qg4   0:15:56.3   \n",
       "3443        18    Qa5   0:15:48.4   \n",
       "3444        18    Qf3   0:16:00.4   \n",
       "3445        19    Qd5   0:15:40.7   \n",
       "\n",
       "                                             urls             end_time  \n",
       "481    https://www.chess.com/game/daily/561871913  2023-10-02 20:05:42  \n",
       "482    https://www.chess.com/game/daily/561871913  2023-10-02 20:05:42  \n",
       "483    https://www.chess.com/game/daily/561871913  2023-10-02 20:05:42  \n",
       "484    https://www.chess.com/game/daily/561871913  2023-10-02 20:05:42  \n",
       "485    https://www.chess.com/game/daily/561871913  2023-10-02 20:05:42  \n",
       "...                                           ...                  ...  \n",
       "3441  https://www.chess.com/game/live/87405096971  2023-09-02 14:52:18  \n",
       "3442  https://www.chess.com/game/live/87405096971  2023-09-02 14:52:18  \n",
       "3443  https://www.chess.com/game/live/87405096971  2023-09-02 14:52:18  \n",
       "3444  https://www.chess.com/game/live/87405096971  2023-09-02 14:52:18  \n",
       "3445  https://www.chess.com/game/live/87405096971  2023-09-02 14:52:18  \n",
       "\n",
       "[4724 rows x 5 columns]"
      ]
     },
     "execution_count": 164,
     "metadata": {},
     "output_type": "execute_result"
    }
   ],
   "source": [
    "df"
   ]
  },
  {
   "cell_type": "code",
   "execution_count": 5,
   "id": "566f1a9e",
   "metadata": {},
   "outputs": [],
   "source": [
    "import pandas as pd\n",
    "from oauth2client.service_account import ServiceAccountCredentials\n",
    "from df2gspread import df2gspread as d2g\n",
    "\n",
    "def to_pandas_df(fetched_data):\n",
    "    \"\"\"\n",
    "    Import fetched game data into a pandas dataframe\n",
    "    \n",
    "    and then sort and drop duplicates\n",
    "    \"\"\"\n",
    "    df = pd.DataFrame()\n",
    "    df['end_time'] = fetched_data[0]\n",
    "    df['white_player'] = fetched_data[1]\n",
    "    df['black_player'] = fetched_data[2]\n",
    "    df['time_control'] = fetched_data[3]\n",
    "    df['url'] = fetched_data[4]\n",
    "    df['result'] = fetched_data[5]\n",
    "    df['white_rating'] = fetched_data[6]\n",
    "    df['black_rating'] = fetched_data[7]\n",
    "    df['white_accuracy'] = fetched_data[8]\n",
    "    df['black_accuracy'] = fetched_data[9]\n",
    "    df = df.sort_values(by = 'end_time', ascending = False)\n",
    "    df = df.drop_duplicates()\n",
    "    \n",
    "    return df\n",
    "\n",
    "def rp_nan_empty(df):\n",
    "    \"\"\"\n",
    "    purpose:\n",
    "    replace null value in the df with \"\" string so that in google sheet it will turn out to be empty space, rather than 'nan'\n",
    "    \"\"\"\n",
    "    df = df.fillna(\"\")\n",
    "\n",
    "    return df\n",
    "\n",
    "\n",
    "def upload_df(name, df, sheet_url):\n",
    "    \"\"\"\n",
    "    purpose:\n",
    "    upload df to google sheet RCC_chess_game_result\n",
    "    each class/csv/file represent one sheet\n",
    "    \n",
    "    input - \n",
    "    name: class name, sheet tab\n",
    "    df: df that will be uploaded for each tab\n",
    "    \"\"\"\n",
    "    #spreadsheet_key = '12R6hwzKys_DQE6vFpuOLGpe68hGHktSzd65AkR0nOsA' # sheet url from RCC_chess_game_result\n",
    "    scope = [\"https://spreadsheets.google.com/feeds\",\n",
    "         \"https://www.googleapis.com/auth/spreadsheets\",\n",
    "         \"https://www.googleapis.com/auth/drive.file\",\n",
    "         \"https://www.googleapis.com/auth/drive\"]\n",
    "    # info about credential \n",
    "    # https://developers.google.com/workspace/guides/create-credentials\n",
    "    creds = ServiceAccountCredentials.from_json_keyfile_name(\"./creds.json\", scope)\n",
    "    wks_name = name\n",
    "    df = rp_nan_empty(df)\n",
    "    d2g.upload(df, sheet_url, wks_name, credentials=creds)  "
   ]
  },
  {
   "cell_type": "code",
   "execution_count": 6,
   "id": "31c3cf14",
   "metadata": {},
   "outputs": [],
   "source": [
    "tianmin = get_user_archives('tianminlyu',1)"
   ]
  },
  {
   "cell_type": "code",
   "execution_count": 7,
   "id": "963bc6dd",
   "metadata": {},
   "outputs": [
    {
     "data": {
      "text/plain": [
       "'https://api.chess.com/pub/player/tianminlyu/games/2023/10'"
      ]
     },
     "execution_count": 7,
     "metadata": {},
     "output_type": "execute_result"
    }
   ],
   "source": [
    "tianmin[0]"
   ]
  },
  {
   "cell_type": "code",
   "execution_count": 90,
   "id": "183a86ca",
   "metadata": {},
   "outputs": [
    {
     "data": {
      "text/plain": [
       "'[Event \"Live Chess\"]\\n[Site \"Chess.com\"]\\n[Date \"2023.10.01\"]\\n[Round \"-\"]\\n[White \"tianminlyu\"]\\n[Black \"rayanjll\"]\\n[Result \"0-1\"]\\n[CurrentPosition \"5r2/2r1k1p1/3pn3/3Q4/1p5R/6p1/1P3P1P/4qBK1 w - -\"]\\n[Timezone \"UTC\"]\\n[ECO \"C86\"]\\n[ECOUrl \"https://www.chess.com/openings/Ruy-Lopez-Opening-Morphy-Defense-Worrall-Attack-6...b5-7.Bb3\"]\\n[UTCDate \"2023.10.01\"]\\n[UTCTime \"20:08:06\"]\\n[WhiteElo \"2281\"]\\n[BlackElo \"2151\"]\\n[TimeControl \"600\"]\\n[Termination \"rayanjll won by resignation\"]\\n[StartTime \"20:08:06\"]\\n[EndDate \"2023.10.01\"]\\n[EndTime \"20:27:30\"]\\n[Link \"https://www.chess.com/game/live/89929820421\"]\\n\\n1. e4 {[%clk 0:10:00]} 1... e5 {[%clk 0:09:54.7]} 2. Nf3 {[%clk 0:09:58.5]} 2... Nc6 {[%clk 0:09:48.9]} 3. Bb5 {[%clk 0:09:57]} 3... a6 {[%clk 0:09:43.2]} 4. Ba4 {[%clk 0:09:55.8]} 4... Nf6 {[%clk 0:09:37.7]} 5. Qe2 {[%clk 0:09:55]} 5... b5 {[%clk 0:09:31.8]} 6. Bb3 {[%clk 0:09:53.2]} 6... Be7 {[%clk 0:09:20]} 7. O-O {[%clk 0:09:51.3]} 7... d6 {[%clk 0:09:08.5]} 8. c3 {[%clk 0:09:49.5]} 8... Na5 {[%clk 0:08:57.6]} 9. Bc2 {[%clk 0:09:43.1]} 9... c5 {[%clk 0:08:45.2]} 10. a4 {[%clk 0:09:39.2]} 10... Bd7 {[%clk 0:08:34.6]} 11. d4 {[%clk 0:09:26.6]} 11... cxd4 {[%clk 0:08:24.6]} 12. cxd4 {[%clk 0:09:25.1]} 12... Qc7 {[%clk 0:08:15.9]} 13. Rd1 {[%clk 0:09:13.9]} 13... O-O {[%clk 0:08:00.2]} 14. Nc3 {[%clk 0:09:02.6]} 14... b4 {[%clk 0:07:48]} 15. Nd5 {[%clk 0:08:34.9]} 15... Nxd5 {[%clk 0:07:36.2]} 16. exd5 {[%clk 0:08:34.8]} 16... Rac8 {[%clk 0:07:16.7]} 17. Ne1 {[%clk 0:05:59.2]} 17... Qc4 {[%clk 0:07:01.1]} 18. Bd3 {[%clk 0:05:52.8]} 18... Qxd5 {[%clk 0:06:48.6]} 19. Bxa6 {[%clk 0:05:27.8]} 19... Rc7 {[%clk 0:06:38.1]} 20. dxe5 {[%clk 0:04:58.1]} 20... Qxe5 {[%clk 0:06:24.7]} 21. Be3 {[%clk 0:04:49.6]} 21... Nb3 {[%clk 0:06:07.7]} 22. Rab1 {[%clk 0:04:42]} 22... Bxa4 {[%clk 0:05:57.5]} 23. Nd3 {[%clk 0:04:31.7]} 23... Qa5 {[%clk 0:05:40.6]} 24. Nf4 {[%clk 0:04:30.4]} 24... Nc5 {[%clk 0:05:28.3]} 25. Bc4 {[%clk 0:04:16]} 25... Bxd1 {[%clk 0:05:16.7]} 26. Rxd1 {[%clk 0:04:12.7]} 26... Bg5 {[%clk 0:05:00.6]} 27. Nd5 {[%clk 0:03:41.4]} 27... Bxe3 {[%clk 0:04:49.5]} 28. Qxe3 {[%clk 0:03:38]} 28... Rd7 {[%clk 0:04:37.8]} 29. Qg5 {[%clk 0:03:18.2]} 29... Kh8 {[%clk 0:03:43.5]} 30. Nf6 {[%clk 0:03:05.1]} 30... Qd8 {[%clk 0:03:32.9]} 31. Nxh7 {[%clk 0:02:32.7]} 31... Kxh7 {[%clk 0:03:23.9]} 32. Qh5+ {[%clk 0:02:29]} 32... Kg8 {[%clk 0:03:16.8]} 33. Rd4 {[%clk 0:02:26.8]} 33... Qf6 {[%clk 0:03:07.8]} 34. Rh4 {[%clk 0:02:17.1]} 34... Qh6 {[%clk 0:02:58.6]} 35. Qg4 {[%clk 0:01:59.9]} 35... Qd2 {[%clk 0:02:49.4]} 36. Qh3 {[%clk 0:01:53.7]} 36... Qe1+ {[%clk 0:02:37.9]} 37. Bf1 {[%clk 0:01:51.8]} 37... f6 {[%clk 0:02:24.1]} 38. Rh8+ {[%clk 0:01:44.1]} 38... Kf7 {[%clk 0:02:18.8]} 39. Qh5+ {[%clk 0:01:40.4]} 39... Ke7 {[%clk 0:02:10.5]} 40. Rh7 {[%clk 0:01:27.6]} 40... Ne6 {[%clk 0:01:58.9]} 41. Qd5 {[%clk 0:00:59.8]} 41... f5 {[%clk 0:01:23.9]} 42. g3 {[%clk 0:00:35.2]} 42... Rc7 {[%clk 0:01:10.5]} 43. Rh5 {[%clk 0:00:28.2]} 43... f4 {[%clk 0:00:58.4]} 44. Rh4 {[%clk 0:00:12.9]} 44... fxg3 {[%clk 0:00:48]} 0-1\\n'"
      ]
     },
     "execution_count": 90,
     "metadata": {},
     "output_type": "execute_result"
    }
   ],
   "source": [
    "get_archive_games(tianmin[0])[0]['pgn']"
   ]
  },
  {
   "cell_type": "code",
   "execution_count": 24,
   "id": "e3983cea",
   "metadata": {},
   "outputs": [
    {
     "data": {
      "text/plain": [
       "'e4'"
      ]
     },
     "execution_count": 24,
     "metadata": {},
     "output_type": "execute_result"
    }
   ],
   "source": [
    "get_archive_games(tianmin[0])[0]['pgn'].split(\"\\n\")[-2].split(\"}\")[0].split(\" {[%clk \")[0].split(\". \")[-1]"
   ]
  },
  {
   "cell_type": "code",
   "execution_count": 27,
   "id": "5d522795",
   "metadata": {},
   "outputs": [
    {
     "data": {
      "text/plain": [
       "'0:10:00'"
      ]
     },
     "execution_count": 27,
     "metadata": {},
     "output_type": "execute_result"
    }
   ],
   "source": [
    "get_archive_games(tianmin[0])[0]['pgn'].split(\"\\n\")[-2].split(\"}\")[0].split(\" {[%clk \")[1][:-1]"
   ]
  },
  {
   "cell_type": "code",
   "execution_count": 30,
   "id": "b713cd8e",
   "metadata": {},
   "outputs": [
    {
     "data": {
      "text/plain": [
       "'e5'"
      ]
     },
     "execution_count": 30,
     "metadata": {},
     "output_type": "execute_result"
    }
   ],
   "source": [
    "get_archive_games(tianmin[0])[0]['pgn'].split(\"\\n\")[-2].split(\"}\")[1].split(\" {[%clk \")[0].split(\". \")[-1]"
   ]
  },
  {
   "cell_type": "code",
   "execution_count": 31,
   "id": "3b098aa1",
   "metadata": {},
   "outputs": [
    {
     "data": {
      "text/plain": [
       "'0:09:54.7'"
      ]
     },
     "execution_count": 31,
     "metadata": {},
     "output_type": "execute_result"
    }
   ],
   "source": [
    "get_archive_games(tianmin[0])[0]['pgn'].split(\"\\n\")[-2].split(\"}\")[1].split(\" {[%clk \")[1][:-1]"
   ]
  },
  {
   "cell_type": "code",
   "execution_count": 41,
   "id": "6b5bd4ad",
   "metadata": {},
   "outputs": [
    {
     "data": {
      "text/plain": [
       "1"
      ]
     },
     "execution_count": 41,
     "metadata": {},
     "output_type": "execute_result"
    }
   ],
   "source": [
    "1 % 2"
   ]
  },
  {
   "cell_type": "code",
   "execution_count": null,
   "id": "6841a686",
   "metadata": {},
   "outputs": [],
   "source": []
  }
 ],
 "metadata": {
  "kernelspec": {
   "display_name": "Python 3 (ipykernel)",
   "language": "python",
   "name": "python3"
  },
  "language_info": {
   "codemirror_mode": {
    "name": "ipython",
    "version": 3
   },
   "file_extension": ".py",
   "mimetype": "text/x-python",
   "name": "python",
   "nbconvert_exporter": "python",
   "pygments_lexer": "ipython3",
   "version": "3.9.6"
  }
 },
 "nbformat": 4,
 "nbformat_minor": 5
}
