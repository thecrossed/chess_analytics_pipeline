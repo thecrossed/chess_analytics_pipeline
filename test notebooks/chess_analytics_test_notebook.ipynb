{
 "cells": [
  {
   "cell_type": "code",
   "execution_count": 2,
   "id": "b5bd8451",
   "metadata": {},
   "outputs": [],
   "source": [
    "import logging\n",
    "import logging.handlers\n",
    "import os\n",
    "import io\n",
    "import pandas as pd\n",
    "import numpy as np\n",
    "import requests\n",
    "import json\n",
    "from chessdotcom import get_player_profile, get_player_stats, get_player_game_archives\n",
    "import chess.pgn\n",
    "from converter.pgn_data import PGNData\n",
    "import time\n",
    "from datetime import date\n",
    "from datetime import datetime\n",
    "from dateutil.relativedelta import relativedelta\n",
    "import gspread\n",
    "from oauth2client.service_account import ServiceAccountCredentials\n",
    "from df2gspread import df2gspread as d2g"
   ]
  },
  {
   "cell_type": "code",
   "execution_count": 3,
   "id": "aa05dd06",
   "metadata": {},
   "outputs": [
    {
     "data": {
      "text/plain": [
       "\"\\n'./students.json'  should be replaced with database in the future.\\n\\nThat is the goal of this sprint\\n\""
      ]
     },
     "execution_count": 3,
     "metadata": {},
     "output_type": "execute_result"
    }
   ],
   "source": [
    "\"\"\"\n",
    "'./students.json'  should be replaced with database in the future.\n",
    "\n",
    "That is the goal of this sprint\n",
    "\"\"\""
   ]
  },
  {
   "cell_type": "code",
   "execution_count": 4,
   "id": "7ffc71c1",
   "metadata": {},
   "outputs": [],
   "source": [
    "def student_df(student_data):\n",
    "    \"\"\"\n",
    "    input:\n",
    "    student_data - dictionary, where key is the class and value is a list of username of each student\n",
    "    \n",
    "    output:\n",
    "    a dataframe having two columns - class, student class; username, student username\n",
    "    \"\"\"\n",
    "    df = pd.DataFrame({'Keys': list(student_data.keys()), 'Values': list(student_data.values())})\n",
    "    df = df.explode(column='Values').reset_index(drop=True)\n",
    "    df.rename(columns = {'Keys':'class', 'Values':'username'}, inplace = True)\n",
    "    return df"
   ]
  },
  {
   "cell_type": "code",
   "execution_count": 5,
   "id": "0b429cb2",
   "metadata": {},
   "outputs": [],
   "source": [
    "user = {\n",
    "            \"Tianmin Lyu\":\"tianminlyu\"\n",
    "            }"
   ]
  },
  {
   "cell_type": "code",
   "execution_count": 6,
   "id": "be61801f",
   "metadata": {},
   "outputs": [
    {
     "data": {
      "text/html": [
       "<div>\n",
       "<style scoped>\n",
       "    .dataframe tbody tr th:only-of-type {\n",
       "        vertical-align: middle;\n",
       "    }\n",
       "\n",
       "    .dataframe tbody tr th {\n",
       "        vertical-align: top;\n",
       "    }\n",
       "\n",
       "    .dataframe thead th {\n",
       "        text-align: right;\n",
       "    }\n",
       "</style>\n",
       "<table border=\"1\" class=\"dataframe\">\n",
       "  <thead>\n",
       "    <tr style=\"text-align: right;\">\n",
       "      <th></th>\n",
       "      <th>class</th>\n",
       "      <th>username</th>\n",
       "    </tr>\n",
       "  </thead>\n",
       "  <tbody>\n",
       "    <tr>\n",
       "      <th>0</th>\n",
       "      <td>Tianmin Lyu</td>\n",
       "      <td>tianminlyu</td>\n",
       "    </tr>\n",
       "  </tbody>\n",
       "</table>\n",
       "</div>"
      ],
      "text/plain": [
       "         class    username\n",
       "0  Tianmin Lyu  tianminlyu"
      ]
     },
     "execution_count": 6,
     "metadata": {},
     "output_type": "execute_result"
    }
   ],
   "source": [
    "student_df(user)"
   ]
  },
  {
   "cell_type": "code",
   "execution_count": 7,
   "id": "cb28d05c",
   "metadata": {},
   "outputs": [],
   "source": [
    "def last_n_month(n):\n",
    "    \"\"\"\n",
    "    return the month as yyyy/mm format of the past n months from now\n",
    "    input -\n",
    "    n: number of months from past\n",
    "    \n",
    "    output -\n",
    "    a list of month with yyyy/mm format\n",
    "    \"\"\"\n",
    "    months_lst = []\n",
    "    for num in range(n):\n",
    "        months = date.today() + relativedelta(months=-num)\n",
    "        if months.month <= 9:\n",
    "            months_lst.append(str(months.year) + \"/\"+ \"0\" + str(months.month))\n",
    "        else:\n",
    "            months_lst.append(str(months.year) + \"/\"+ str(months.month))\n",
    "    return months_lst"
   ]
  },
  {
   "cell_type": "code",
   "execution_count": 8,
   "id": "e62fa438",
   "metadata": {},
   "outputs": [
    {
     "data": {
      "text/plain": [
       "['2023/09', '2023/08']"
      ]
     },
     "execution_count": 8,
     "metadata": {},
     "output_type": "execute_result"
    }
   ],
   "source": [
    "last_n_month(2)"
   ]
  },
  {
   "cell_type": "code",
   "execution_count": null,
   "id": "f1a9086c",
   "metadata": {},
   "outputs": [],
   "source": []
  },
  {
   "cell_type": "code",
   "execution_count": 9,
   "id": "cebc7e89",
   "metadata": {},
   "outputs": [],
   "source": [
    "def get_user_archives(username, months):\n",
    "    \"\"\"\n",
    "    get archive monthly files of specific chess.com player\n",
    "    input:\n",
    "    username - username of the chess.com player\n",
    "    months - target months that we want to get the archives\n",
    "    \n",
    "    output:\n",
    "    target_month - files of archives according to months parameter\n",
    "    \"\"\"\n",
    "    archives = get_player_game_archives(username).json['archives']\n",
    "    target_month = []\n",
    "    for archive in archives:\n",
    "        if archive[-7:] in months:\n",
    "            target_month.append(archive)\n",
    "    return target_month\n"
   ]
  },
  {
   "cell_type": "code",
   "execution_count": 57,
   "id": "2f1b4b71",
   "metadata": {},
   "outputs": [],
   "source": [
    "url = \"https://api.chess.com/pub/player/tianminlyu/puzzles\"\n",
    "\n",
    "user_agent = {'User-Agent': 'username: tianminlyu, email: tianminlyu@gmail.com'}\n",
    "\n",
    "r = requests.get(url, headers = user_agent)\n"
   ]
  },
  {
   "cell_type": "code",
   "execution_count": 58,
   "id": "bc083c79",
   "metadata": {},
   "outputs": [
    {
     "data": {
      "text/plain": [
       "{'code': 0,\n",
       " 'message': 'Data provider not found for key \"/pub/player/tianminlyu/puzzles\".'}"
      ]
     },
     "execution_count": 58,
     "metadata": {},
     "output_type": "execute_result"
    }
   ],
   "source": [
    "r.json()\n"
   ]
  },
  {
   "cell_type": "code",
   "execution_count": null,
   "id": "dd13e201",
   "metadata": {},
   "outputs": [],
   "source": [
    "# https://www.chess.com/clubs/forum/view/error-403-in-member-profile?page=2\n",
    "\n"
   ]
  }
 ],
 "metadata": {
  "kernelspec": {
   "display_name": "Python 3 (ipykernel)",
   "language": "python",
   "name": "python3"
  },
  "language_info": {
   "codemirror_mode": {
    "name": "ipython",
    "version": 3
   },
   "file_extension": ".py",
   "mimetype": "text/x-python",
   "name": "python",
   "nbconvert_exporter": "python",
   "pygments_lexer": "ipython3",
   "version": "3.9.7"
  }
 },
 "nbformat": 4,
 "nbformat_minor": 5
}
