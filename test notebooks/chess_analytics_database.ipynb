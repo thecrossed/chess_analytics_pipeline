{
 "cells": [
  {
   "cell_type": "code",
   "execution_count": 15,
   "id": "fea98075",
   "metadata": {},
   "outputs": [],
   "source": [
    "import sqlite3\n",
    "from google.cloud import storage\n",
    "import pandas as pd\n",
    "import numpy as np\n",
    "from datetime import datetime\n",
    "import sys\n",
    "import mysql.connector as connector"
   ]
  },
  {
   "cell_type": "code",
   "execution_count": null,
   "id": "fda6716a",
   "metadata": {},
   "outputs": [],
   "source": [
    "# need to start the instance before connecting\n",
    "# https://console.cloud.google.com/sql/instances/rcc-sql/overview?project=rcc-game-result"
   ]
  },
  {
   "cell_type": "code",
   "execution_count": null,
   "id": "bd9b7c3b",
   "metadata": {},
   "outputs": [],
   "source": [
    "# add IP to authorized network\n",
    "# https://cloud.google.com/sql/docs/mysql/connect-admin-ip\n",
    "\n",
    "cnx = connector.connect(user='root', \n",
    "                        password='rccchess',\n",
    "                        host='34.88.248.70')"
   ]
  },
  {
   "cell_type": "code",
   "execution_count": 23,
   "id": "0cd72d51",
   "metadata": {},
   "outputs": [],
   "source": [
    "cursor = cnx.cursor()"
   ]
  },
  {
   "cell_type": "code",
   "execution_count": 24,
   "id": "85182142",
   "metadata": {},
   "outputs": [],
   "source": [
    "query = (\"SHOW DATABASES;\")\n",
    "cursor.execute(query)"
   ]
  },
  {
   "cell_type": "code",
   "execution_count": 25,
   "id": "1830c3a0",
   "metadata": {},
   "outputs": [
    {
     "data": {
      "text/plain": [
       "[(bytearray(b'information_schema'),),\n",
       " (bytearray(b'mysql'),),\n",
       " (bytearray(b'performance_schema'),),\n",
       " (bytearray(b'sys'),)]"
      ]
     },
     "execution_count": 25,
     "metadata": {},
     "output_type": "execute_result"
    }
   ],
   "source": [
    "cursor.fetchall()"
   ]
  },
  {
   "cell_type": "code",
   "execution_count": null,
   "id": "fc565085",
   "metadata": {},
   "outputs": [],
   "source": []
  }
 ],
 "metadata": {
  "kernelspec": {
   "display_name": "Python 3 (ipykernel)",
   "language": "python",
   "name": "python3"
  },
  "language_info": {
   "codemirror_mode": {
    "name": "ipython",
    "version": 3
   },
   "file_extension": ".py",
   "mimetype": "text/x-python",
   "name": "python",
   "nbconvert_exporter": "python",
   "pygments_lexer": "ipython3",
   "version": "3.9.7"
  }
 },
 "nbformat": 4,
 "nbformat_minor": 5
}
