{
 "cells": [
  {
   "cell_type": "code",
   "execution_count": 1,
   "id": "b5bd8451",
   "metadata": {},
   "outputs": [],
   "source": [
    "import logging\n",
    "import logging.handlers\n",
    "import os\n",
    "import io\n",
    "import pandas as pd\n",
    "import numpy as np\n",
    "import requests\n",
    "import json\n",
    "from chessdotcom import get_player_profile, get_player_stats, get_player_game_archives\n",
    "import chess.pgn\n",
    "from converter.pgn_data import PGNData\n",
    "import time\n",
    "from datetime import date\n",
    "from datetime import datetime\n",
    "from dateutil.relativedelta import relativedelta\n",
    "import gspread\n",
    "from oauth2client.service_account import ServiceAccountCredentials\n",
    "from df2gspread import df2gspread as d2g"
   ]
  },
  {
   "cell_type": "code",
   "execution_count": null,
   "id": "aa05dd06",
   "metadata": {},
   "outputs": [],
   "source": [
    "\"\"\"\n",
    "'./students.json'  should be replaced with database in the future.\n",
    "\n",
    "That is the goal of this sprint\n",
    "\"\"\""
   ]
  },
  {
   "cell_type": "code",
   "execution_count": null,
   "id": "7ffc71c1",
   "metadata": {},
   "outputs": [],
   "source": [
    "def student_df(student_data):\n",
    "    \"\"\"\n",
    "    input:\n",
    "    student_data - dictionary, where key is the class and value is a list of username of each student\n",
    "    \n",
    "    output:\n",
    "    a dataframe having two columns - class, student class; username, student username\n",
    "    \"\"\"\n",
    "    df = pd.DataFrame({'Keys': list(student_data.keys()), 'Values': list(student_data.values())})\n",
    "    df = df.explode(column='Values').reset_index(drop=True)\n",
    "    df.rename(columns = {'Keys':'class', 'Values':'username'}, inplace = True)\n",
    "    return df"
   ]
  },
  {
   "cell_type": "code",
   "execution_count": null,
   "id": "0b429cb2",
   "metadata": {},
   "outputs": [],
   "source": [
    "user = {\n",
    "            \"Tianmin Lyu\":\"tianminlyu\"\n",
    "            }"
   ]
  },
  {
   "cell_type": "code",
   "execution_count": null,
   "id": "be61801f",
   "metadata": {},
   "outputs": [],
   "source": [
    "student_df(user)"
   ]
  },
  {
   "cell_type": "code",
   "execution_count": null,
   "id": "cb28d05c",
   "metadata": {},
   "outputs": [],
   "source": [
    "def last_n_month(n):\n",
    "    \"\"\"\n",
    "    return the month as yyyy/mm format of the past n months from now\n",
    "    input -\n",
    "    n: number of months from past\n",
    "    \n",
    "    output -\n",
    "    a list of month with yyyy/mm format\n",
    "    \"\"\"\n",
    "    months_lst = []\n",
    "    for num in range(n):\n",
    "        months = date.today() + relativedelta(months=-num)\n",
    "        if months.month <= 9:\n",
    "            months_lst.append(str(months.year) + \"/\"+ \"0\" + str(months.month))\n",
    "        else:\n",
    "            months_lst.append(str(months.year) + \"/\"+ str(months.month))\n",
    "    return months_lst"
   ]
  },
  {
   "cell_type": "code",
   "execution_count": null,
   "id": "e62fa438",
   "metadata": {},
   "outputs": [],
   "source": [
    "last_n_month(2)"
   ]
  },
  {
   "cell_type": "code",
   "execution_count": null,
   "id": "f1a9086c",
   "metadata": {},
   "outputs": [],
   "source": []
  },
  {
   "cell_type": "code",
   "execution_count": null,
   "id": "cebc7e89",
   "metadata": {},
   "outputs": [],
   "source": [
    "def get_user_archives(username, months):\n",
    "    \"\"\"\n",
    "    get archive monthly files of specific chess.com player\n",
    "    input:\n",
    "    username - username of the chess.com player\n",
    "    months - target months that we want to get the archives\n",
    "    \n",
    "    output:\n",
    "    target_month - files of archives according to months parameter\n",
    "    \"\"\"\n",
    "    archives = get_player_game_archives(username).json['archives']\n",
    "    target_month = []\n",
    "    for archive in archives:\n",
    "        if archive[-7:] in months:\n",
    "            target_month.append(archive)\n",
    "    return target_month\n"
   ]
  },
  {
   "cell_type": "code",
   "execution_count": 3,
   "id": "2f1b4b71",
   "metadata": {},
   "outputs": [],
   "source": [
    "url = \"https://api.chess.com/pub/player/tianminlyu/games/archives\"\n",
    "\n",
    "\n",
    "\n",
    "user_agent = {'User-Agent': 'username: tianminlyu, email: tianminlyu@gmail.com'}\n",
    "\n",
    "r = requests.get(url, headers = user_agent)\n"
   ]
  },
  {
   "cell_type": "code",
   "execution_count": 4,
   "id": "bc083c79",
   "metadata": {},
   "outputs": [],
   "source": [
    "archive_data = r.json()\n"
   ]
  },
  {
   "cell_type": "code",
   "execution_count": 8,
   "id": "eedf585e",
   "metadata": {},
   "outputs": [],
   "source": [
    "t = archive_data['archives'][0]"
   ]
  },
  {
   "cell_type": "code",
   "execution_count": 16,
   "id": "94edab80",
   "metadata": {},
   "outputs": [],
   "source": [
    "first_time = requests.get(t,headers = user_agent).json()['games'][0]['end_time']"
   ]
  },
  {
   "cell_type": "code",
   "execution_count": 17,
   "id": "f9b41344",
   "metadata": {},
   "outputs": [
    {
     "data": {
      "text/plain": [
       "'2019-08-01 09:07:01'"
      ]
     },
     "execution_count": 17,
     "metadata": {},
     "output_type": "execute_result"
    }
   ],
   "source": [
    "(datetime.utcfromtimestamp(first_time).strftime('%Y-%m-%d %H:%M:%S'))"
   ]
  },
  {
   "cell_type": "code",
   "execution_count": 22,
   "id": "3a557366",
   "metadata": {},
   "outputs": [],
   "source": [
    "students_username = ['yaohengli',\n",
    "           'chessloverma',\n",
    "           'chengliam',\n",
    "           'emmaxli',\n",
    "           'akfunchess66',\n",
    "           \n",
    "           'willhanzhu',\n",
    "           'TLPAWN',\n",
    "           'Jasminezhao777',\n",
    "           'Justinzhao777',\n",
    "           'Milkmilkok',\n",
    "           'zlicyigloo',\n",
    "           'Zora_zhu',\n",
    "           'dogwater1012000',\n",
    "           \n",
    "           'AJLinVH',\n",
    "           'charliezienyang',\n",
    "           'whatwhywhywhat',\n",
    "           'ZhouYuanLi',\n",
    "           'Logicalcheetah26',\n",
    "           'Nolan330',\n",
    "           'antleo0314',\n",
    "           'AntLeoChess']\n",
    "\n",
    "user_agent = {'User-Agent': 'username: tianminlyu, email: tianminlyu@gmail.com'}\n",
    "\n",
    "account_first_game = {}\n",
    "\n",
    "for account in students_username:\n",
    "    url = \"https://api.chess.com/pub/player/{username}/games/archives\".format(username = account.lower())\n",
    "    r = requests.get(url, headers = user_agent)\n",
    "    archive_data = r.json()\n",
    "    first_month = archive_data['archives'][0]\n",
    "    first_time = requests.get(first_month,headers = user_agent).json()['games'][0]['end_time']\n",
    "    timestamp_format = (datetime.utcfromtimestamp(first_time).strftime('%Y-%m-%d %H:%M:%S'))\n",
    "    account_first_game[account] = timestamp_format"
   ]
  },
  {
   "cell_type": "code",
   "execution_count": 23,
   "id": "937506f5",
   "metadata": {},
   "outputs": [
    {
     "data": {
      "text/plain": [
       "{'yaohengli': '2022-09-03 06:49:07',\n",
       " 'chessloverma': '2023-01-23 04:54:25',\n",
       " 'chengliam': '2022-11-08 20:12:10',\n",
       " 'emmaxli': '2022-08-30 22:28:12',\n",
       " 'akfunchess66': '2022-09-11 21:44:11',\n",
       " 'willhanzhu': '2021-09-19 02:22:25',\n",
       " 'TLPAWN': '2022-04-19 00:35:04',\n",
       " 'Jasminezhao777': '2023-04-09 22:30:41',\n",
       " 'Justinzhao777': '2023-04-09 22:25:55',\n",
       " 'Milkmilkok': '2022-09-11 13:02:20',\n",
       " 'zlicyigloo': '2021-05-07 20:58:04',\n",
       " 'Zora_zhu': '2023-01-06 23:46:50',\n",
       " 'dogwater1012000': '2022-05-19 00:10:06',\n",
       " 'AJLinVH': '2022-07-28 14:50:37',\n",
       " 'charliezienyang': '2023-05-06 17:35:24',\n",
       " 'whatwhywhywhat': '2023-02-25 01:47:39',\n",
       " 'ZhouYuanLi': '2021-05-22 02:43:18',\n",
       " 'Logicalcheetah26': '2023-05-11 00:41:57',\n",
       " 'Nolan330': '2022-09-18 03:17:45',\n",
       " 'antleo0314': '2023-04-29 21:28:15',\n",
       " 'AntLeoChess': '2023-09-16 23:57:18'}"
      ]
     },
     "execution_count": 23,
     "metadata": {},
     "output_type": "execute_result"
    }
   ],
   "source": [
    "account_first_game"
   ]
  },
  {
   "cell_type": "code",
   "execution_count": null,
   "id": "dd13e201",
   "metadata": {},
   "outputs": [],
   "source": [
    "def last_n_month(n):\n",
    "    \"\"\"\n",
    "    purpose:\n",
    "    return the month as yyyy/mm format of the past n months from now\n",
    "    \n",
    "    input -\n",
    "    n: number of months from past\n",
    "    \n",
    "    output -\n",
    "    a list of month with yyyy/mm format\n",
    "    \"\"\"\n",
    "    months_lst = []\n",
    "    for num in range(n):\n",
    "        months = date.today() + relativedelta(months=-num)\n",
    "        if months.month <= 9:\n",
    "            months_lst.append(str(months.year) + \"/\"+ \"0\" + str(months.month))\n",
    "        else:\n",
    "            months_lst.append(str(months.year) + \"/\"+ str(months.month))\n",
    "    return months_lst"
   ]
  },
  {
   "cell_type": "code",
   "execution_count": null,
   "id": "1ca5cb7f",
   "metadata": {},
   "outputs": [],
   "source": [
    "last_n_month(2)"
   ]
  },
  {
   "cell_type": "code",
   "execution_count": null,
   "id": "c37c2c8a",
   "metadata": {},
   "outputs": [],
   "source": [
    "def get_user_archives(username, nr_months):\n",
    "    \"\"\"\n",
    "    purpose:\n",
    "    get archive monthly files of specific chess.com player\n",
    "    \n",
    "    input:\n",
    "    username - username of the chess.com player\n",
    "    nr_months - integer, nummber of past months that we want to get the archives\n",
    "    \n",
    "    output:\n",
    "    target_month - files of archives according to months parameter\n",
    "    \"\"\"\n",
    "    url = \"https://api.chess.com/pub/player/{username}/games/archives\".format(username = username)\n",
    "    user_agent = {'User-Agent': 'username: tianminlyu, email: tianminlyu@gmail.com'}\n",
    "    archive_request = requests.get(url, headers = user_agent)\n",
    "    archives = archive_request.json()['archives']\n",
    "    past_months = last_n_month(nr_months)\n",
    "    target_month = []\n",
    "    for archive in archives:\n",
    "        if archive[-7:] in past_months:\n",
    "            target_month.append(archive)\n",
    "    return target_month"
   ]
  },
  {
   "cell_type": "code",
   "execution_count": null,
   "id": "649bb018",
   "metadata": {},
   "outputs": [],
   "source": [
    "get_user_archives('tianminlyu',2)"
   ]
  },
  {
   "cell_type": "code",
   "execution_count": null,
   "id": "c22ddf5a",
   "metadata": {},
   "outputs": [],
   "source": [
    "archive_url = \"https://api.chess.com/pub/player/tianminlyu/games/2023/09\"\n",
    "\n",
    "user_agent = {'User-Agent': 'username: tianminlyu, email: tianminlyu@gmail.com'}\n",
    "archive_request = requests.get(archive_url, headers = user_agent)\n",
    "\n",
    "archive_request"
   ]
  },
  {
   "cell_type": "code",
   "execution_count": null,
   "id": "ae282a61",
   "metadata": {},
   "outputs": [],
   "source": [
    "def get_archive_games(filename):\n",
    "    \"\"\"\n",
    "    purpose:\n",
    "    \n",
    "    return games in one archive file\n",
    "    \n",
    "    input:\n",
    "    filename - filename that contains game urls\n",
    "    \n",
    "    output: \n",
    "    \"\"\"\n",
    "    games = requests.get(filename,headers = user_agent).json()['games']\n",
    "    return games"
   ]
  },
  {
   "cell_type": "code",
   "execution_count": null,
   "id": "45d53423",
   "metadata": {},
   "outputs": [],
   "source": [
    "for game in archive_request.json()['games']:\n",
    "    print(datetime.utcfromtimestamp(game['end_time']).strftime('%Y-%m-%d %H:%M:%S'))\n",
    "    break"
   ]
  },
  {
   "cell_type": "code",
   "execution_count": null,
   "id": "4f9ee777",
   "metadata": {},
   "outputs": [],
   "source": [
    "students = ['yaohengli',\n",
    "           'chessloverma',\n",
    "           'chengliam',\n",
    "           'emmaxli',\n",
    "           'akfunchess66',\n",
    "           \n",
    "           'willhanzhu',\n",
    "           'TLPAWN',\n",
    "           'Jasminezhao777',\n",
    "           'Justinzhao777',\n",
    "           'Milkmilkok',\n",
    "           'zlicyigloo',\n",
    "           'Zora_zhu',\n",
    "           'dogwater1012000',\n",
    "           \n",
    "           'AJLinVH',\n",
    "           'charliezienyang',\n",
    "           'whatwhywhywhat',\n",
    "           'ZhouYuanLi',\n",
    "           'Logicalcheetah26',\n",
    "           'Nolan330']\n",
    "\n",
    "students = [x.lower() for x in students]"
   ]
  },
  {
   "cell_type": "code",
   "execution_count": null,
   "id": "cf15f071",
   "metadata": {},
   "outputs": [],
   "source": [
    "end_times = []\n",
    "white_players = []\n",
    "black_players = []\n",
    "time_controls = []\n",
    "urls = []\n",
    "\n",
    "for student in students:\n",
    "    print(student.upper())\n",
    "    archives = get_user_archives(student,2)\n",
    "    #print(archives)\n",
    "    for archive in archives[::-1]:\n",
    "        games = get_archive_games(archive)\n",
    "        for game in games[::-1]:\n",
    "            #print(game)\n",
    "            if (game['white']['username'].lower() == student.lower() and game['black']['username'].lower() in students):\n",
    "                end_time = datetime.utcfromtimestamp(game['end_time']).strftime('%Y-%m-%d %H:%M:%S')\n",
    "                print(end_time)\n",
    "                print(\"[w]\" + student)\n",
    "                print(\"[b]\" + game['black']['username'])\n",
    "                print(\"time control: \" + game['time_control'])\n",
    "                print(\"          \")\n",
    "                \n",
    "                end_times.append(end_time)\n",
    "                white_players.append(student.lower())\n",
    "                black_players.append(game['black']['username'].lower())\n",
    "                time_controls.append(game['time_control'])\n",
    "                urls.append(game['url'])\n",
    "                \n",
    "            elif (game['black']['username'].lower() == student.lower() and game['white']['username'].lower() in students):\n",
    "                end_time = datetime.utcfromtimestamp(game['end_time']).strftime('%Y-%m-%d %H:%M:%S')\n",
    "                print(end_time)\n",
    "                print(\"[w]\" + game['white']['username'])\n",
    "                print(\"[b]\" + student)\n",
    "                print(\"time control: \" + game['time_control'])\n",
    "                print(game['url'])\n",
    "\n",
    "                print(\"          \")\n",
    "                \n",
    "                end_times.append(end_time)\n",
    "                white_players.append(game['white']['username'].lower())\n",
    "                black_players.append(student.lower())\n",
    "                time_controls.append(game['time_control'])\n",
    "                urls.append(game['url'])\n",
    "    print(\"---------\")"
   ]
  },
  {
   "cell_type": "code",
   "execution_count": null,
   "id": "31b49a27",
   "metadata": {},
   "outputs": [],
   "source": [
    "df = pd.DataFrame()\n",
    "df['end_time'] = end_times\n",
    "df['white_player'] = white_players\n",
    "df['black_player'] = black_players\n",
    "df['time_control'] = time_controls\n",
    "df['url'] = urls\n",
    "df = df.sort_values(by = 'end_time', ascending = False)\n",
    "df = df.drop_duplicates()"
   ]
  },
  {
   "cell_type": "code",
   "execution_count": null,
   "id": "ea84b23b",
   "metadata": {},
   "outputs": [],
   "source": []
  },
  {
   "cell_type": "code",
   "execution_count": null,
   "id": "3253f2f5",
   "metadata": {},
   "outputs": [],
   "source": []
  },
  {
   "cell_type": "code",
   "execution_count": null,
   "id": "455d6c1c",
   "metadata": {},
   "outputs": [],
   "source": [
    "def upload_df(name, df, sheet_url):\n",
    "    \"\"\"\n",
    "    purpose:\n",
    "    upload df to google sheet RCC_chess_game_result\n",
    "    each class/csv/file represent one sheet\n",
    "    \n",
    "    input - \n",
    "    name: class name, sheet tab\n",
    "    df: df that will be uploaded for each tab\n",
    "    \"\"\"\n",
    "    #spreadsheet_key = '12R6hwzKys_DQE6vFpuOLGpe68hGHktSzd65AkR0nOsA' # sheet url from RCC_chess_game_result\n",
    "    scope = [\"https://spreadsheets.google.com/feeds\",\n",
    "         \"https://www.googleapis.com/auth/spreadsheets\",\n",
    "         \"https://www.googleapis.com/auth/drive.file\",\n",
    "         \"https://www.googleapis.com/auth/drive\"]\n",
    "    creds = ServiceAccountCredentials.from_json_keyfile_name(\"./creds.json\", scope)\n",
    "    wks_name = name\n",
    "    df = rp_nan_empty(df)\n",
    "    d2g.upload(df, sheet_url, wks_name, credentials=creds)  "
   ]
  },
  {
   "cell_type": "code",
   "execution_count": null,
   "id": "39484715",
   "metadata": {},
   "outputs": [],
   "source": [
    "#upload_df(\"2023fall\", df, '1YbU3GZq58mWu5Kl4l4gPhq96aohmk8gFxbzGr6cpA7o')"
   ]
  },
  {
   "cell_type": "code",
   "execution_count": null,
   "id": "ce80322c",
   "metadata": {},
   "outputs": [],
   "source": [
    "def game_notification():\n",
    "    end_times = []\n",
    "    white_players = []\n",
    "    black_players = []\n",
    "    time_controls = []\n",
    "\n",
    "    for student in students:\n",
    "        print(student.upper())\n",
    "        archives = get_user_archives(student,2)\n",
    "        #print(archives)\n",
    "        for archive in archives[::-1]:\n",
    "            games = get_archive_games(archive)\n",
    "            for game in games[::-1]:\n",
    "                #print(game)\n",
    "                if (game['white']['username'].lower() == student.lower() and game['black']['username'].lower() in students):\n",
    "                    end_time = datetime.utcfromtimestamp(game['end_time']).strftime('%Y-%m-%d %H:%M:%S')\n",
    "                    print(end_time)\n",
    "                    print(\"[w]\" + student)\n",
    "                    print(\"[b]\" + game['black']['username'])\n",
    "                    print(\"time control: \" + game['time_control'])\n",
    "                    print(\"          \")\n",
    "                    \n",
    "                    end_times.append(end_time)\n",
    "                    white_players.append(student.lower())\n",
    "                    black_players.append(game['black']['username'].lower())\n",
    "                    time_controls.append(game['time_control'])\n",
    "                    \n",
    "                elif (game['black']['username'].lower() == student.lower() and game['white']['username'].lower() in students):\n",
    "                    end_time = datetime.utcfromtimestamp(game['end_time']).strftime('%Y-%m-%d %H:%M:%S')\n",
    "                    print(end_time)\n",
    "                    print(\"[w]\" + game['white']['username'])\n",
    "                    print(\"[b]\" + student)\n",
    "                    print(\"time control: \" + game['time_control'])\n",
    "                    print(\"          \")\n",
    "                    \n",
    "                    end_times.append(end_time)\n",
    "                    white_players.append(game['white']['username'].lower())\n",
    "                    black_players.append(student.lower())\n",
    "                    time_controls.append(game['time_control'])\n",
    "    print(\"---------\")\n",
    "    df = pd.DataFrame()\n",
    "    df['end_time'] = end_times\n",
    "    df['white_player'] = white_players\n",
    "    df['black_player'] = black_players\n",
    "    df['time_control'] = time_controls\n",
    "    df = df.sort_values(by = 'end_time', ascending = False)\n",
    "    df = df.drop_duplicates()\n",
    "    return df\n",
    "    \n",
    "game_notification()"
   ]
  },
  {
   "cell_type": "code",
   "execution_count": null,
   "id": "c18e7f54",
   "metadata": {},
   "outputs": [],
   "source": [
    "test = [1]"
   ]
  },
  {
   "cell_type": "code",
   "execution_count": null,
   "id": "30619d2c",
   "metadata": {},
   "outputs": [],
   "source": [
    "test[::-1]"
   ]
  },
  {
   "cell_type": "code",
   "execution_count": null,
   "id": "fd00684d",
   "metadata": {},
   "outputs": [],
   "source": [
    "'https://api.chess.com/pub/player/yaohengli/games/2023/08'"
   ]
  },
  {
   "cell_type": "code",
   "execution_count": 2,
   "id": "63b6edee",
   "metadata": {},
   "outputs": [],
   "source": [
    "import sys"
   ]
  },
  {
   "cell_type": "code",
   "execution_count": 24,
   "id": "cbfc8b55",
   "metadata": {},
   "outputs": [],
   "source": [
    "sys.path.insert(1, r'../chess_dot_com_api.py')"
   ]
  },
  {
   "cell_type": "code",
   "execution_count": 31,
   "id": "4704b417",
   "metadata": {},
   "outputs": [],
   "source": [
    "from lib import chess_dot_com_api"
   ]
  },
  {
   "cell_type": "code",
   "execution_count": 32,
   "id": "b4d6e8a2",
   "metadata": {},
   "outputs": [],
   "source": [
    "a = chess_dot_com_api.ChessdotcomAPI(user_agent = {'User-Agent': 'username: tianminlyu, email: tianminlyu@gmail.com'})"
   ]
  },
  {
   "cell_type": "code",
   "execution_count": 33,
   "id": "bc2f2d8b",
   "metadata": {},
   "outputs": [
    {
     "data": {
      "text/plain": [
       "<lib.chess_dot_com_api.ChessdotcomAPI at 0x7f909f80afa0>"
      ]
     },
     "execution_count": 33,
     "metadata": {},
     "output_type": "execute_result"
    }
   ],
   "source": [
    "a"
   ]
  },
  {
   "cell_type": "code",
   "execution_count": 34,
   "id": "646dc357",
   "metadata": {},
   "outputs": [],
   "source": [
    "\n",
    "def last_n_month(n):\n",
    "    \"\"\"\n",
    "    purpose:\n",
    "    return the month as yyyy/mm format of the past n months from now\n",
    "    \n",
    "    input -\n",
    "    n: number of months from past\n",
    "    \n",
    "    output -\n",
    "    a list of month with yyyy/mm format\n",
    "    \"\"\"\n",
    "    months_lst = []\n",
    "    for num in range(n):\n",
    "        months = date.today() + relativedelta(months=-num)\n",
    "        if months.month <= 9:\n",
    "            months_lst.append(str(months.year) + \"/\"+ \"0\" + str(months.month))\n",
    "        else:\n",
    "            months_lst.append(str(months.year) + \"/\"+ str(months.month))\n",
    "    return months_lst\n",
    "\n"
   ]
  },
  {
   "cell_type": "code",
   "execution_count": 40,
   "id": "1a792a15",
   "metadata": {},
   "outputs": [
    {
     "ename": "NameError",
     "evalue": "name 'requests' is not defined",
     "output_type": "error",
     "traceback": [
      "\u001b[0;31m---------------------------------------------------------------------------\u001b[0m",
      "\u001b[0;31mNameError\u001b[0m                                 Traceback (most recent call last)",
      "\u001b[0;32m/var/folders/gm/sqkz8yg12_d12sb2rtq76mzw0000gn/T/ipykernel_61430/4101217715.py\u001b[0m in \u001b[0;36m<module>\u001b[0;34m\u001b[0m\n\u001b[0;32m----> 1\u001b[0;31m \u001b[0ma\u001b[0m\u001b[0;34m.\u001b[0m\u001b[0mget_user_archives\u001b[0m\u001b[0;34m(\u001b[0m\u001b[0;34m\"tianminlyu\"\u001b[0m\u001b[0;34m,\u001b[0m\u001b[0;36m1\u001b[0m\u001b[0;34m)\u001b[0m\u001b[0;34m\u001b[0m\u001b[0;34m\u001b[0m\u001b[0m\n\u001b[0m",
      "\u001b[0;32m~/chess_analytics_pipeline/test notebooks/../lib/chess_dot_com_api.py\u001b[0m in \u001b[0;36mget_user_archives\u001b[0;34m(self, username, nr_months)\u001b[0m\n\u001b[1;32m     21\u001b[0m         \"\"\"\n\u001b[1;32m     22\u001b[0m         \u001b[0murl\u001b[0m \u001b[0;34m=\u001b[0m \u001b[0;34m\"https://api.chess.com/pub/player/{username}/games/archives\"\u001b[0m\u001b[0;34m.\u001b[0m\u001b[0mformat\u001b[0m\u001b[0;34m(\u001b[0m\u001b[0musername\u001b[0m \u001b[0;34m=\u001b[0m \u001b[0musername\u001b[0m\u001b[0;34m)\u001b[0m\u001b[0;34m\u001b[0m\u001b[0;34m\u001b[0m\u001b[0m\n\u001b[0;32m---> 23\u001b[0;31m         \u001b[0marchive_request\u001b[0m \u001b[0;34m=\u001b[0m \u001b[0mrequests\u001b[0m\u001b[0;34m.\u001b[0m\u001b[0mget\u001b[0m\u001b[0;34m(\u001b[0m\u001b[0murl\u001b[0m\u001b[0;34m,\u001b[0m \u001b[0mheaders\u001b[0m \u001b[0;34m=\u001b[0m \u001b[0mself\u001b[0m\u001b[0;34m.\u001b[0m\u001b[0muser_agent\u001b[0m\u001b[0;34m)\u001b[0m\u001b[0;34m\u001b[0m\u001b[0;34m\u001b[0m\u001b[0m\n\u001b[0m\u001b[1;32m     24\u001b[0m         \u001b[0marchives\u001b[0m \u001b[0;34m=\u001b[0m \u001b[0marchive_request\u001b[0m\u001b[0;34m.\u001b[0m\u001b[0mjson\u001b[0m\u001b[0;34m(\u001b[0m\u001b[0;34m)\u001b[0m\u001b[0;34m[\u001b[0m\u001b[0;34m'archives'\u001b[0m\u001b[0;34m]\u001b[0m\u001b[0;34m\u001b[0m\u001b[0;34m\u001b[0m\u001b[0m\n\u001b[1;32m     25\u001b[0m         \u001b[0mpast_months\u001b[0m \u001b[0;34m=\u001b[0m \u001b[0mlast_n_month\u001b[0m\u001b[0;34m(\u001b[0m\u001b[0mnr_months\u001b[0m\u001b[0;34m)\u001b[0m\u001b[0;34m\u001b[0m\u001b[0;34m\u001b[0m\u001b[0m\n",
      "\u001b[0;31mNameError\u001b[0m: name 'requests' is not defined"
     ]
    }
   ],
   "source": [
    "a.get_user_archives(\"tianminlyu\",1)"
   ]
  },
  {
   "cell_type": "code",
   "execution_count": 25,
   "id": "32c05fe4",
   "metadata": {},
   "outputs": [],
   "source": [
    "import logging\n",
    "import logging.handlers\n",
    "import os\n",
    "import io\n",
    "import pandas as pd\n",
    "import numpy as np\n",
    "import requests\n",
    "import json\n",
    "# from chessdotcom import get_player_profile, get_player_stats, get_player_game_archives  (not working)\n",
    "import chess.pgn\n",
    "from converter.pgn_data import PGNData\n",
    "import time\n",
    "from datetime import date\n",
    "from datetime import datetime\n",
    "from dateutil.relativedelta import relativedelta\n",
    "import gspread\n",
    "from oauth2client.service_account import ServiceAccountCredentials\n",
    "from df2gspread import df2gspread as d2g\n",
    "from lib import chess_dot_com_api"
   ]
  },
  {
   "cell_type": "code",
   "execution_count": 35,
   "id": "331eb65e",
   "metadata": {},
   "outputs": [],
   "source": [
    "class ChessdotcomAPI():\n",
    "    def __init__(self, user_agent = {'User-Agent': 'username: tianminlyu, email: tianminlyu@gmail.com'}):\n",
    "        self.user_agent = user_agent\n",
    "    \n",
    "    \n",
    "    def get_user_archives(self,\n",
    "                          username, \n",
    "                          nr_months):\n",
    "        \"\"\"\n",
    "        purpose:\n",
    "        get archive monthly files of specific chess.com player\n",
    "        \n",
    "        input:\n",
    "        username - username of the chess.com player\n",
    "        nr_months - integer, nummber of past months that we want to get the archives\n",
    "        # to request chess.com API\n",
    "           user_agent = {'User-Agent': 'username: tianminlyu, email: tianminlyu@gmail.com'}\n",
    "        \n",
    "        output:\n",
    "        target_month - files of archives according to months parameter\n",
    "        \"\"\"\n",
    "        url = \"https://api.chess.com/pub/player/{username}/games/archives\".format(username = username)\n",
    "        archive_request = requests.get(url, headers = self.user_agent)\n",
    "        archives = archive_request.json()['archives']\n",
    "        past_months = last_n_month(nr_months)\n",
    "        target_month = []\n",
    "        for archive in archives:\n",
    "            if archive[-7:] in past_months:\n",
    "                target_month.append(archive)\n",
    "        return target_month\n",
    "    \n",
    "    def get_archive_games(self,\n",
    "                          filename):\n",
    "        \"\"\"\n",
    "        purpose:\n",
    "        \n",
    "        return games in one archive file\n",
    "        \n",
    "        input:\n",
    "        filename - filename that contains game urls\n",
    "        \n",
    "        output: \n",
    "        \"\"\"\n",
    "        games = requests.get(filename,headers = self.user_agent).json()['games']\n",
    "        return games"
   ]
  },
  {
   "cell_type": "code",
   "execution_count": 36,
   "id": "6317dc02",
   "metadata": {},
   "outputs": [],
   "source": [
    "b = ChessdotcomAPI()"
   ]
  },
  {
   "cell_type": "code",
   "execution_count": 39,
   "id": "88127c32",
   "metadata": {},
   "outputs": [
    {
     "data": {
      "text/plain": [
       "['https://api.chess.com/pub/player/tianminlyu/games/2023/09']"
      ]
     },
     "execution_count": 39,
     "metadata": {},
     "output_type": "execute_result"
    }
   ],
   "source": [
    "b.get_user_archives(\"tianminlyu\",1)"
   ]
  },
  {
   "cell_type": "code",
   "execution_count": null,
   "id": "0c0b3c4b",
   "metadata": {},
   "outputs": [],
   "source": []
  }
 ],
 "metadata": {
  "kernelspec": {
   "display_name": "Python 3 (ipykernel)",
   "language": "python",
   "name": "python3"
  },
  "language_info": {
   "codemirror_mode": {
    "name": "ipython",
    "version": 3
   },
   "file_extension": ".py",
   "mimetype": "text/x-python",
   "name": "python",
   "nbconvert_exporter": "python",
   "pygments_lexer": "ipython3",
   "version": "3.9.7"
  }
 },
 "nbformat": 4,
 "nbformat_minor": 5
}
