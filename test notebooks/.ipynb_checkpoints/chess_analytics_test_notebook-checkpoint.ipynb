{
 "cells": [
  {
   "cell_type": "code",
   "execution_count": 76,
   "id": "b5bd8451",
   "metadata": {},
   "outputs": [],
   "source": [
    "import logging\n",
    "import logging.handlers\n",
    "import os\n",
    "import io\n",
    "import pandas as pd\n",
    "import numpy as np\n",
    "import requests\n",
    "import json\n",
    "from chessdotcom import get_player_profile, get_player_stats, get_player_game_archives\n",
    "import chess.pgn\n",
    "from converter.pgn_data import PGNData\n",
    "import time\n",
    "from datetime import date\n",
    "from datetime import datetime\n",
    "from dateutil.relativedelta import relativedelta\n",
    "import gspread\n",
    "from oauth2client.service_account import ServiceAccountCredentials\n",
    "from df2gspread import df2gspread as d2g"
   ]
  },
  {
   "cell_type": "code",
   "execution_count": 77,
   "id": "aa05dd06",
   "metadata": {},
   "outputs": [
    {
     "data": {
      "text/plain": [
       "\"\\n'./students.json'  should be replaced with database in the future.\\n\\nThat is the goal of this sprint\\n\""
      ]
     },
     "execution_count": 77,
     "metadata": {},
     "output_type": "execute_result"
    }
   ],
   "source": [
    "\"\"\"\n",
    "'./students.json'  should be replaced with database in the future.\n",
    "\n",
    "That is the goal of this sprint\n",
    "\"\"\""
   ]
  },
  {
   "cell_type": "code",
   "execution_count": 78,
   "id": "7ffc71c1",
   "metadata": {},
   "outputs": [],
   "source": [
    "def student_df(student_data):\n",
    "    \"\"\"\n",
    "    input:\n",
    "    student_data - dictionary, where key is the class and value is a list of username of each student\n",
    "    \n",
    "    output:\n",
    "    a dataframe having two columns - class, student class; username, student username\n",
    "    \"\"\"\n",
    "    df = pd.DataFrame({'Keys': list(student_data.keys()), 'Values': list(student_data.values())})\n",
    "    df = df.explode(column='Values').reset_index(drop=True)\n",
    "    df.rename(columns = {'Keys':'class', 'Values':'username'}, inplace = True)\n",
    "    return df"
   ]
  },
  {
   "cell_type": "code",
   "execution_count": 79,
   "id": "0b429cb2",
   "metadata": {},
   "outputs": [],
   "source": [
    "user = {\n",
    "            \"Tianmin Lyu\":\"tianminlyu\"\n",
    "            }"
   ]
  },
  {
   "cell_type": "code",
   "execution_count": 80,
   "id": "be61801f",
   "metadata": {},
   "outputs": [
    {
     "data": {
      "text/html": [
       "<div>\n",
       "<style scoped>\n",
       "    .dataframe tbody tr th:only-of-type {\n",
       "        vertical-align: middle;\n",
       "    }\n",
       "\n",
       "    .dataframe tbody tr th {\n",
       "        vertical-align: top;\n",
       "    }\n",
       "\n",
       "    .dataframe thead th {\n",
       "        text-align: right;\n",
       "    }\n",
       "</style>\n",
       "<table border=\"1\" class=\"dataframe\">\n",
       "  <thead>\n",
       "    <tr style=\"text-align: right;\">\n",
       "      <th></th>\n",
       "      <th>class</th>\n",
       "      <th>username</th>\n",
       "    </tr>\n",
       "  </thead>\n",
       "  <tbody>\n",
       "    <tr>\n",
       "      <th>0</th>\n",
       "      <td>Tianmin Lyu</td>\n",
       "      <td>tianminlyu</td>\n",
       "    </tr>\n",
       "  </tbody>\n",
       "</table>\n",
       "</div>"
      ],
      "text/plain": [
       "         class    username\n",
       "0  Tianmin Lyu  tianminlyu"
      ]
     },
     "execution_count": 80,
     "metadata": {},
     "output_type": "execute_result"
    }
   ],
   "source": [
    "student_df(user)"
   ]
  },
  {
   "cell_type": "code",
   "execution_count": 81,
   "id": "cb28d05c",
   "metadata": {},
   "outputs": [],
   "source": [
    "def last_n_month(n):\n",
    "    \"\"\"\n",
    "    return the month as yyyy/mm format of the past n months from now\n",
    "    input -\n",
    "    n: number of months from past\n",
    "    \n",
    "    output -\n",
    "    a list of month with yyyy/mm format\n",
    "    \"\"\"\n",
    "    months_lst = []\n",
    "    for num in range(n):\n",
    "        months = date.today() + relativedelta(months=-num)\n",
    "        if months.month <= 9:\n",
    "            months_lst.append(str(months.year) + \"/\"+ \"0\" + str(months.month))\n",
    "        else:\n",
    "            months_lst.append(str(months.year) + \"/\"+ str(months.month))\n",
    "    return months_lst"
   ]
  },
  {
   "cell_type": "code",
   "execution_count": 82,
   "id": "e62fa438",
   "metadata": {},
   "outputs": [
    {
     "data": {
      "text/plain": [
       "['2023/09', '2023/08']"
      ]
     },
     "execution_count": 82,
     "metadata": {},
     "output_type": "execute_result"
    }
   ],
   "source": [
    "last_n_month(2)"
   ]
  },
  {
   "cell_type": "code",
   "execution_count": null,
   "id": "f1a9086c",
   "metadata": {},
   "outputs": [],
   "source": []
  },
  {
   "cell_type": "code",
   "execution_count": 83,
   "id": "cebc7e89",
   "metadata": {},
   "outputs": [],
   "source": [
    "def get_user_archives(username, months):\n",
    "    \"\"\"\n",
    "    get archive monthly files of specific chess.com player\n",
    "    input:\n",
    "    username - username of the chess.com player\n",
    "    months - target months that we want to get the archives\n",
    "    \n",
    "    output:\n",
    "    target_month - files of archives according to months parameter\n",
    "    \"\"\"\n",
    "    archives = get_player_game_archives(username).json['archives']\n",
    "    target_month = []\n",
    "    for archive in archives:\n",
    "        if archive[-7:] in months:\n",
    "            target_month.append(archive)\n",
    "    return target_month\n"
   ]
  },
  {
   "cell_type": "code",
   "execution_count": 84,
   "id": "2f1b4b71",
   "metadata": {},
   "outputs": [],
   "source": [
    "url = \"https://api.chess.com/pub/player/tianminlyu/games/archives\"\n",
    "\n",
    "\n",
    "\n",
    "user_agent = {'User-Agent': 'username: tianminlyu, email: tianminlyu@gmail.com'}\n",
    "\n",
    "r = requests.get(url, headers = user_agent)\n"
   ]
  },
  {
   "cell_type": "code",
   "execution_count": 85,
   "id": "bc083c79",
   "metadata": {},
   "outputs": [],
   "source": [
    "archive_data = r.json()\n"
   ]
  },
  {
   "cell_type": "code",
   "execution_count": 86,
   "id": "b9675e30",
   "metadata": {},
   "outputs": [
    {
     "data": {
      "text/plain": [
       "['https://api.chess.com/pub/player/tianminlyu/games/2019/08',\n",
       " 'https://api.chess.com/pub/player/tianminlyu/games/2020/05',\n",
       " 'https://api.chess.com/pub/player/tianminlyu/games/2020/06',\n",
       " 'https://api.chess.com/pub/player/tianminlyu/games/2022/07',\n",
       " 'https://api.chess.com/pub/player/tianminlyu/games/2022/08',\n",
       " 'https://api.chess.com/pub/player/tianminlyu/games/2022/09',\n",
       " 'https://api.chess.com/pub/player/tianminlyu/games/2022/10',\n",
       " 'https://api.chess.com/pub/player/tianminlyu/games/2022/11',\n",
       " 'https://api.chess.com/pub/player/tianminlyu/games/2022/12',\n",
       " 'https://api.chess.com/pub/player/tianminlyu/games/2023/01',\n",
       " 'https://api.chess.com/pub/player/tianminlyu/games/2023/02',\n",
       " 'https://api.chess.com/pub/player/tianminlyu/games/2023/03',\n",
       " 'https://api.chess.com/pub/player/tianminlyu/games/2023/04',\n",
       " 'https://api.chess.com/pub/player/tianminlyu/games/2023/05',\n",
       " 'https://api.chess.com/pub/player/tianminlyu/games/2023/06',\n",
       " 'https://api.chess.com/pub/player/tianminlyu/games/2023/07',\n",
       " 'https://api.chess.com/pub/player/tianminlyu/games/2023/08',\n",
       " 'https://api.chess.com/pub/player/tianminlyu/games/2023/09']"
      ]
     },
     "execution_count": 86,
     "metadata": {},
     "output_type": "execute_result"
    }
   ],
   "source": [
    "archive_date['archives']"
   ]
  },
  {
   "cell_type": "code",
   "execution_count": 87,
   "id": "dd13e201",
   "metadata": {},
   "outputs": [],
   "source": [
    "def last_n_month(n):\n",
    "    \"\"\"\n",
    "    purpose:\n",
    "    return the month as yyyy/mm format of the past n months from now\n",
    "    \n",
    "    input -\n",
    "    n: number of months from past\n",
    "    \n",
    "    output -\n",
    "    a list of month with yyyy/mm format\n",
    "    \"\"\"\n",
    "    months_lst = []\n",
    "    for num in range(n):\n",
    "        months = date.today() + relativedelta(months=-num)\n",
    "        if months.month <= 9:\n",
    "            months_lst.append(str(months.year) + \"/\"+ \"0\" + str(months.month))\n",
    "        else:\n",
    "            months_lst.append(str(months.year) + \"/\"+ str(months.month))\n",
    "    return months_lst"
   ]
  },
  {
   "cell_type": "code",
   "execution_count": 88,
   "id": "15cfb0cc",
   "metadata": {},
   "outputs": [
    {
     "data": {
      "text/plain": [
       "['2023/09', '2023/08']"
      ]
     },
     "execution_count": 88,
     "metadata": {},
     "output_type": "execute_result"
    }
   ],
   "source": [
    "last_n_month(2)"
   ]
  },
  {
   "cell_type": "code",
   "execution_count": 89,
   "id": "8a9dcc51",
   "metadata": {},
   "outputs": [],
   "source": [
    "def get_user_archives(username, nr_months):\n",
    "    \"\"\"\n",
    "    purpose:\n",
    "    get archive monthly files of specific chess.com player\n",
    "    \n",
    "    input:\n",
    "    username - username of the chess.com player\n",
    "    nr_months - integer, nummber of past months that we want to get the archives\n",
    "    \n",
    "    output:\n",
    "    target_month - files of archives according to months parameter\n",
    "    \"\"\"\n",
    "    url = \"https://api.chess.com/pub/player/{username}/games/archives\".format(username = username)\n",
    "    user_agent = {'User-Agent': 'username: tianminlyu, email: tianminlyu@gmail.com'}\n",
    "    archive_request = requests.get(url, headers = user_agent)\n",
    "    archives = archive_request.json()['archives']\n",
    "    past_months = last_n_month(nr_months)\n",
    "    target_month = []\n",
    "    for archive in archives:\n",
    "        if archive[-7:] in past_months:\n",
    "            target_month.append(archive)\n",
    "    return target_month"
   ]
  },
  {
   "cell_type": "code",
   "execution_count": 90,
   "id": "1d495bb1",
   "metadata": {},
   "outputs": [
    {
     "data": {
      "text/plain": [
       "['https://api.chess.com/pub/player/tianminlyu/games/2023/08',\n",
       " 'https://api.chess.com/pub/player/tianminlyu/games/2023/09']"
      ]
     },
     "execution_count": 90,
     "metadata": {},
     "output_type": "execute_result"
    }
   ],
   "source": [
    "get_user_archives('tianminlyu',2)"
   ]
  },
  {
   "cell_type": "code",
   "execution_count": 91,
   "id": "334b56a2",
   "metadata": {},
   "outputs": [
    {
     "data": {
      "text/plain": [
       "<Response [200]>"
      ]
     },
     "execution_count": 91,
     "metadata": {},
     "output_type": "execute_result"
    }
   ],
   "source": [
    "archive_url = \"https://api.chess.com/pub/player/tianminlyu/games/2023/09\"\n",
    "\n",
    "user_agent = {'User-Agent': 'username: tianminlyu, email: tianminlyu@gmail.com'}\n",
    "archive_request = requests.get(archive_url, headers = user_agent)\n",
    "\n",
    "archive_request"
   ]
  },
  {
   "cell_type": "code",
   "execution_count": 92,
   "id": "8c41eb9e",
   "metadata": {},
   "outputs": [],
   "source": [
    "def get_archive_games(filename):\n",
    "    \"\"\"\n",
    "    purpose:\n",
    "    \n",
    "    return games in one archive file\n",
    "    \n",
    "    input:\n",
    "    filename - filename that contains game urls\n",
    "    \n",
    "    output: \n",
    "    \"\"\"\n",
    "    games = requests.get(filename,headers = user_agent).json()['games']\n",
    "    return games"
   ]
  },
  {
   "cell_type": "code",
   "execution_count": 93,
   "id": "db7349c5",
   "metadata": {},
   "outputs": [
    {
     "name": "stdout",
     "output_type": "stream",
     "text": [
      "2023-09-01 09:39:15\n"
     ]
    }
   ],
   "source": [
    "for game in archive_request.json()['games']:\n",
    "    print(datetime.utcfromtimestamp(game['end_time']).strftime('%Y-%m-%d %H:%M:%S'))\n",
    "    break"
   ]
  },
  {
   "cell_type": "code",
   "execution_count": 112,
   "id": "b235bb2e",
   "metadata": {},
   "outputs": [],
   "source": [
    "students = ['yaohengli',\n",
    "           'chessloverma',\n",
    "           'chengliam',\n",
    "           'emmaxli',\n",
    "           'akfunchess66']"
   ]
  },
  {
   "cell_type": "code",
   "execution_count": 129,
   "id": "96553cd1",
   "metadata": {},
   "outputs": [
    {
     "name": "stdout",
     "output_type": "stream",
     "text": [
      "YAOHENGLI\n",
      "2023-09-02 17:37:21\n",
      "[w]yaohengli\n",
      "[b]chessloverMA\n",
      "time control: 900+10\n",
      "          \n",
      "2023-08-10 02:48:01\n",
      "[w]chessloverMA\n",
      "[b]yaohengli\n",
      "time control: 900+10\n",
      "          \n",
      "---------\n",
      "CHESSLOVERMA\n",
      "2023-09-02 17:37:21\n",
      "[w]yaohengli\n",
      "[b]chessloverma\n",
      "time control: 900+10\n",
      "          \n",
      "2023-08-10 02:48:01\n",
      "[w]chessloverma\n",
      "[b]yaohengli\n",
      "time control: 900+10\n",
      "          \n",
      "---------\n",
      "CHENGLIAM\n",
      "2023-09-03 19:34:21\n",
      "[w]EmmaXLi\n",
      "[b]chengliam\n",
      "time control: 900+10\n",
      "          \n",
      "2023-08-05 21:06:31\n",
      "[w]akfunchess66\n",
      "[b]chengliam\n",
      "time control: 1200\n",
      "          \n",
      "---------\n",
      "EMMAXLI\n",
      "2023-09-03 19:34:21\n",
      "[w]emmaxli\n",
      "[b]chengliam\n",
      "time control: 900+10\n",
      "          \n",
      "2023-08-05 15:20:08\n",
      "[w]emmaxli\n",
      "[b]akfunchess66\n",
      "time control: 900+10\n",
      "          \n",
      "---------\n",
      "AKFUNCHESS66\n",
      "2023-08-05 21:06:31\n",
      "[w]akfunchess66\n",
      "[b]chengliam\n",
      "time control: 1200\n",
      "          \n",
      "2023-08-05 15:20:08\n",
      "[w]EmmaXLi\n",
      "[b]akfunchess66\n",
      "time control: 900+10\n",
      "          \n",
      "---------\n"
     ]
    }
   ],
   "source": [
    "for student in students:\n",
    "    print(student.upper())\n",
    "    archives = get_user_archives(student,2)\n",
    "    #print(archives)\n",
    "    for archive in archives[::-1]:\n",
    "        games = get_archive_games(archive)\n",
    "        for game in games[::-1]:\n",
    "            #print(game)\n",
    "            if (game['white']['username'].lower() == student.lower() and game['black']['username'].lower() in students):\n",
    "                print(datetime.utcfromtimestamp(game['end_time']).strftime('%Y-%m-%d %H:%M:%S'))\n",
    "                print(\"[w]\" + student)\n",
    "                print(\"[b]\" + game['black']['username'])\n",
    "                print(\"time control: \" + game['time_control'])\n",
    "                print(\"          \")\n",
    "            elif (game['black']['username'].lower() == student.lower() and game['white']['username'].lower() in students):\n",
    "                print(datetime.utcfromtimestamp(game['end_time']).strftime('%Y-%m-%d %H:%M:%S'))\n",
    "                print(\"[w]\" + game['white']['username'])\n",
    "                print(\"[b]\" + student)\n",
    "                print(\"time control: \" + game['time_control'])\n",
    "                print(\"          \")\n",
    "    print(\"---------\")"
   ]
  },
  {
   "cell_type": "code",
   "execution_count": 116,
   "id": "460ea445",
   "metadata": {},
   "outputs": [],
   "source": [
    "emma_game = requests.get(\"https://api.chess.com/pub/player/emmaxli/games/2023/09\", headers = user_agent).json()"
   ]
  },
  {
   "cell_type": "code",
   "execution_count": 118,
   "id": "8fc19538",
   "metadata": {},
   "outputs": [
    {
     "data": {
      "text/plain": [
       "[{'url': 'https://www.chess.com/game/live/87506575895',\n",
       "  'pgn': '[Event \"Live Chess\"]\\n[Site \"Chess.com\"]\\n[Date \"2023.09.03\"]\\n[Round \"-\"]\\n[White \"EmmaXLi\"]\\n[Black \"chengliam\"]\\n[Result \"1-0\"]\\n[CurrentPosition \"1k5Q/8/1K6/8/8/BP3N2/P7/8 b - -\"]\\n[Timezone \"UTC\"]\\n[ECO \"C88\"]\\n[ECOUrl \"https://www.chess.com/openings/Ruy-Lopez-Opening-Morphy-Defense-Closed-6.Re1-b5-7.Bb3\"]\\n[UTCDate \"2023.09.03\"]\\n[UTCTime \"19:01:34\"]\\n[WhiteElo \"1076\"]\\n[BlackElo \"1120\"]\\n[TimeControl \"900+10\"]\\n[Termination \"EmmaXLi won by checkmate\"]\\n[StartTime \"19:01:34\"]\\n[EndDate \"2023.09.03\"]\\n[EndTime \"19:34:21\"]\\n[Link \"https://www.chess.com/game/live/87506575895\"]\\n\\n1. e4 {[%clk 0:15:10]} 1... e5 {[%clk 0:15:10]} 2. Nf3 {[%clk 0:15:16.4]} 2... Nc6 {[%clk 0:15:19.3]} 3. Bb5 {[%clk 0:15:23.7]} 3... a6 {[%clk 0:15:27.6]} 4. Ba4 {[%clk 0:15:32.1]} 4... Nf6 {[%clk 0:15:33.9]} 5. O-O {[%clk 0:15:36.1]} 5... b5 {[%clk 0:15:40.1]} 6. Bb3 {[%clk 0:15:35]} 6... Be7 {[%clk 0:15:47.9]} 7. Re1 {[%clk 0:15:35]} 7... O-O {[%clk 0:15:54.1]} 8. c3 {[%clk 0:15:39]} 8... d5 {[%clk 0:15:55]} 9. exd5 {[%clk 0:15:32.7]} 9... Nxd5 {[%clk 0:16:03.5]} 10. Nxe5 {[%clk 0:15:32.1]} 10... Nxe5 {[%clk 0:16:11.9]} 11. Rxe5 {[%clk 0:15:39.2]} 11... c6 {[%clk 0:16:20.9]} 12. d4 {[%clk 0:14:05]} 12... Bd6 {[%clk 0:16:25.5]} 13. Re1 {[%clk 0:13:44.5]} 13... Qh4 {[%clk 0:16:20.6]} 14. g3 {[%clk 0:13:24.4]} 14... Qh3 {[%clk 0:16:17.5]} 15. Re4 {[%clk 0:12:01.8]} 15... Qf5 {[%clk 0:13:30.4]} 16. Bc2 {[%clk 0:11:16.7]} 16... Qf6 {[%clk 0:12:51.8]} 17. Nd2 {[%clk 0:09:34.6]} 17... Bf5 {[%clk 0:12:30.3]} 18. Re1 {[%clk 0:07:57.9]} 18... c5 {[%clk 0:12:19.8]} 19. dxc5 {[%clk 0:06:51.5]} 19... Bxc5 {[%clk 0:12:27.3]} 20. Bxf5 {[%clk 0:05:18.4]} 20... Qxf5 {[%clk 0:12:26.2]} 21. Qf3 {[%clk 0:05:14]} 21... Qxf3 {[%clk 0:12:14.6]} 22. Nxf3 {[%clk 0:05:15.5]} 22... Rfe8 {[%clk 0:12:22.7]} 23. Bd2 {[%clk 0:05:11.4]} 23... Rad8 {[%clk 0:12:08.7]} 24. Rxe8+ {[%clk 0:05:02.5]} 24... Rxe8 {[%clk 0:12:16.9]} 25. Re1 {[%clk 0:04:54.5]} 25... Rxe1+ {[%clk 0:12:14.2]} 26. Nxe1 {[%clk 0:04:51.2]} 26... a5 {[%clk 0:12:16.3]} 27. Kg2 {[%clk 0:04:52]} 27... b4 {[%clk 0:12:11.7]} 28. c4 {[%clk 0:04:40]} 28... Nb6 {[%clk 0:12:10.8]} 29. b3 {[%clk 0:04:44.4]} 29... a4 {[%clk 0:12:17.9]} 30. Nd3 {[%clk 0:04:35.7]} 30... Bd6 {[%clk 0:11:47.8]} 31. c5 {[%clk 0:04:17.2]} 31... Bxc5 {[%clk 0:11:40.9]} 32. Nxc5 {[%clk 0:04:19.9]} 32... a3 {[%clk 0:11:24.9]} 33. Bxb4 {[%clk 0:03:56.8]} 33... Kf8 {[%clk 0:11:01.7]} 34. Nd7+ {[%clk 0:03:42.3]} 34... Ke8 {[%clk 0:11:06.1]} 35. Nxb6 {[%clk 0:03:45.7]} 35... f5 {[%clk 0:11:11.3]} 36. f4 {[%clk 0:03:29.6]} 36... h6 {[%clk 0:11:18.8]} 37. Kf3 {[%clk 0:03:10.6]} 37... g5 {[%clk 0:11:20.7]} 38. fxg5 {[%clk 0:03:08]} 38... hxg5 {[%clk 0:11:29.5]} 39. Bxa3 {[%clk 0:03:06.3]} 39... Kd8 {[%clk 0:11:35.7]} 40. Ke3 {[%clk 0:03:10.2]} 40... Kc7 {[%clk 0:11:43.9]} 41. Nc4 {[%clk 0:03:14.7]} 41... Kb8 {[%clk 0:11:45.4]} 42. Kd4 {[%clk 0:03:19.2]} 42... Ka8 {[%clk 0:11:45.7]} 43. Kc5 {[%clk 0:03:20.4]} 43... f4 {[%clk 0:11:46.7]} 44. gxf4 {[%clk 0:03:15.2]} 44... gxf4 {[%clk 0:11:55]} 45. Nd2 {[%clk 0:03:21.2]} 45... f3 {[%clk 0:12:00.2]} 46. Nxf3 {[%clk 0:03:12.1]} 46... Ka7 {[%clk 0:12:09.1]} 47. h4 {[%clk 0:03:13]} 47... Ka6 {[%clk 0:12:17.2]} 48. h5 {[%clk 0:03:07.6]} 48... Kb7 {[%clk 0:12:25.6]} 49. h6 {[%clk 0:03:09.3]} 49... Ka7 {[%clk 0:12:34.4]} 50. h7 {[%clk 0:03:14.9]} 50... Ka6 {[%clk 0:12:40.9]} 51. h8=Q {[%clk 0:03:12.6]} 51... Ka7 {[%clk 0:12:45.7]} 52. Qh6 {[%clk 0:02:48.5]} 52... Ka8 {[%clk 0:12:40.9]} 53. Kb6 {[%clk 0:02:33.9]} 53... Kb8 {[%clk 0:12:48.5]} 54. Qh8# {[%clk 0:02:41.4]} 1-0\\n',\n",
       "  'time_control': '900+10',\n",
       "  'end_time': 1693769661,\n",
       "  'rated': True,\n",
       "  'accuracies': {'white': 92.26, 'black': 78.62},\n",
       "  'tcn': 'mC0Kgv5QfHWOHy!TegXHyr90fe8!ksZJCJTJvKQKeKYQlB0RKe7FowFxeCxLrkLTbl6LCeQIBIRIkLTLdvLvlv98cl47e878ae8eveOGgoHzsAJPjrGyetIRAIRItIyqlz!9IZ98ZP1LnD3Vov2MDMVMzq87vu7YPAY5uB54BILDwDMDAlDvlv4WpFWOFNOXNVXWV3WO3~OW?VW4IP45V?',\n",
       "  'uuid': '52b4796d-4a8c-11ee-b49d-6cfe544c0428',\n",
       "  'initial_setup': 'rnbqkbnr/pppppppp/8/8/8/8/PPPPPPPP/RNBQKBNR w KQkq - 0 1',\n",
       "  'fen': '1k5Q/8/1K6/8/8/BP3N2/P7/8 b - -',\n",
       "  'time_class': 'rapid',\n",
       "  'rules': 'chess',\n",
       "  'white': {'rating': 1076,\n",
       "   'result': 'win',\n",
       "   '@id': 'https://api.chess.com/pub/player/emmaxli',\n",
       "   'username': 'EmmaXLi',\n",
       "   'uuid': 'b28586ba-270c-11ed-8b25-095a6ad0be8b'},\n",
       "  'black': {'rating': 1120,\n",
       "   'result': 'checkmated',\n",
       "   '@id': 'https://api.chess.com/pub/player/chengliam',\n",
       "   'username': 'chengliam',\n",
       "   'uuid': '1eac6420-5ef9-11ed-a214-e15a746ffcea'}},\n",
       " {'url': 'https://www.chess.com/game/live/87778278411',\n",
       "  'pgn': '[Event \"Live Chess\"]\\n[Site \"Chess.com\"]\\n[Date \"2023.09.06\"]\\n[Round \"-\"]\\n[White \"justinzhao777\"]\\n[Black \"EmmaXLi\"]\\n[Result \"0-1\"]\\n[CurrentPosition \"2r5/b4ppp/4p1k1/3p4/6P1/7P/PPr4q/5R1K w - -\"]\\n[Timezone \"UTC\"]\\n[ECO \"C10\"]\\n[ECOUrl \"https://www.chess.com/openings/French-Defense-Marshall-Variation\"]\\n[UTCDate \"2023.09.06\"]\\n[UTCTime \"22:27:12\"]\\n[WhiteElo \"210\"]\\n[BlackElo \"1076\"]\\n[TimeControl \"900+10\"]\\n[Termination \"EmmaXLi won by checkmate\"]\\n[StartTime \"22:27:12\"]\\n[EndDate \"2023.09.06\"]\\n[EndTime \"22:49:37\"]\\n[Link \"https://www.chess.com/game/live/87778278411\"]\\n\\n1. e4 {[%clk 0:15:10]} 1... e6 {[%clk 0:15:10]} 2. d4 {[%clk 0:15:19.3]} 2... d5 {[%clk 0:15:18.2]} 3. Nc3 {[%clk 0:15:26]} 3... c5 {[%clk 0:15:22.4]} 4. Nf3 {[%clk 0:15:23.2]} 4... Qb6 {[%clk 0:15:01.2]} 5. Bf4 {[%clk 0:15:23.4]} 5... Nc6 {[%clk 0:14:29.2]} 6. Rb1 {[%clk 0:15:27.8]} 6... Nxd4 {[%clk 0:14:13]} 7. Nxd4 {[%clk 0:15:26.2]} 7... cxd4 {[%clk 0:14:13.5]} 8. Bb5+ {[%clk 0:15:23.5]} 8... Bd7 {[%clk 0:13:56.1]} 9. Bxd7+ {[%clk 0:15:30.5]} 9... Kxd7 {[%clk 0:14:00.4]} 10. Ne2 {[%clk 0:15:23.2]} 10... Nf6 {[%clk 0:13:12.1]} 11. Nxd4 {[%clk 0:15:23.9]} 11... Nxe4 {[%clk 0:12:33.2]} 12. O-O {[%clk 0:15:24.2]} 12... Bc5 {[%clk 0:12:14.7]} 13. Nb3 {[%clk 0:14:47.7]} 13... Bxf2+ {[%clk 0:11:54.2]} 14. Kh1 {[%clk 0:14:43.4]} 14... Bg1 {[%clk 0:11:31.9]} 15. h3 {[%clk 0:14:10.8]} 15... Nf2+ {[%clk 0:10:34.2]} 16. Rxf2 {[%clk 0:14:13.1]} 16... Bxf2 {[%clk 0:10:19.2]} 17. Qd3 {[%clk 0:14:05.3]} 17... Rac8 {[%clk 0:09:15.9]} 18. Nd4 {[%clk 0:13:25]} 18... Qxd4 {[%clk 0:09:01.2]} 19. Qb5+ {[%clk 0:13:24.9]} 19... Ke7 {[%clk 0:08:45.7]} 20. Qxb7+ {[%clk 0:13:18.8]} 20... Kf6 {[%clk 0:08:29.9]} 21. Bd6 {[%clk 0:12:52.4]} 21... Kg6 {[%clk 0:07:25.9]} 22. Qe7 {[%clk 0:12:04.7]} 22... Rxc2 {[%clk 0:07:05.2]} 23. Be5 {[%clk 0:11:03.4]} 23... Qxe5 {[%clk 0:06:55.5]} 24. Qxa7 {[%clk 0:10:50.5]} 24... Bxa7 {[%clk 0:06:47.4]} 25. Rf1 {[%clk 0:10:21.6]} 25... Rhc8 {[%clk 0:06:07.3]} 26. g4 {[%clk 0:10:17.3]} 26... Qh2# {[%clk 0:06:11]} 0-1\\n',\n",
       "  'time_control': '900+10',\n",
       "  'end_time': 1694040577,\n",
       "  'rated': False,\n",
       "  'accuracies': {'white': 57.57, 'black': 75.36},\n",
       "  'tcn': 'mC0SlBZJbsYIgv7PcD5QabQBvBIBfH6ZHZ8Zsm!TmBTCeg9IBrInghngpxCnfngndt46rBPBtHZ0HX0TDRTUX06kRKBK0WnWbf?6oEKp',\n",
       "  'uuid': '806dc72e-4d04-11ee-b49d-6cfe544c0428',\n",
       "  'initial_setup': 'rnbqkbnr/pppppppp/8/8/8/8/PPPPPPPP/RNBQKBNR w KQkq - 0 1',\n",
       "  'fen': '2r5/b4ppp/4p1k1/3p4/6P1/7P/PPr4q/5R1K w - -',\n",
       "  'time_class': 'rapid',\n",
       "  'rules': 'chess',\n",
       "  'white': {'rating': 210,\n",
       "   'result': 'checkmated',\n",
       "   '@id': 'https://api.chess.com/pub/player/justinzhao777',\n",
       "   'username': 'justinzhao777',\n",
       "   'uuid': '6be8a2c2-d6f3-11ed-9d79-57effb1bf0e4'},\n",
       "  'black': {'rating': 1076,\n",
       "   'result': 'win',\n",
       "   '@id': 'https://api.chess.com/pub/player/emmaxli',\n",
       "   'username': 'EmmaXLi',\n",
       "   'uuid': 'b28586ba-270c-11ed-8b25-095a6ad0be8b'}}]"
      ]
     },
     "execution_count": 118,
     "metadata": {},
     "output_type": "execute_result"
    }
   ],
   "source": [
    "if (game['white']['username'] == student and game['black']['username'] in students):"
   ]
  },
  {
   "cell_type": "code",
   "execution_count": 74,
   "id": "babd7a5b",
   "metadata": {},
   "outputs": [],
   "source": [
    "test = [1]"
   ]
  },
  {
   "cell_type": "code",
   "execution_count": 75,
   "id": "fc853e9a",
   "metadata": {},
   "outputs": [
    {
     "data": {
      "text/plain": [
       "[1]"
      ]
     },
     "execution_count": 75,
     "metadata": {},
     "output_type": "execute_result"
    }
   ],
   "source": [
    "test[::-1]"
   ]
  },
  {
   "cell_type": "code",
   "execution_count": null,
   "id": "1fdd48ef",
   "metadata": {},
   "outputs": [],
   "source": [
    "'https://api.chess.com/pub/player/yaohengli/games/2023/08'"
   ]
  }
 ],
 "metadata": {
  "kernelspec": {
   "display_name": "Python 3 (ipykernel)",
   "language": "python",
   "name": "python3"
  },
  "language_info": {
   "codemirror_mode": {
    "name": "ipython",
    "version": 3
   },
   "file_extension": ".py",
   "mimetype": "text/x-python",
   "name": "python",
   "nbconvert_exporter": "python",
   "pygments_lexer": "ipython3",
   "version": "3.9.7"
  }
 },
 "nbformat": 4,
 "nbformat_minor": 5
}
